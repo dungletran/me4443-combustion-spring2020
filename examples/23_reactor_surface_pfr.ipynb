{
 "cells": [
  {
   "cell_type": "markdown",
   "metadata": {},
   "source": [
    "# Plug Flow Reactor with Surface Chemistry\n",
    "\n",
    "Code is ported (almost) verbatim from cantera example file `surf_pfr.py` (distributed with cantera):\n",
    "```\n",
    "\"\"\"\n",
    "This example solves a plug flow reactor problem, where the chemistry is\n",
    "surface chemistry. The specific problem simulated is the partial oxidation of\n",
    "methane over a platinum catalyst in a packed bed reactor.\n",
    "\"\"\"\n",
    "```"
   ]
  },
  {
   "cell_type": "code",
   "execution_count": 3,
   "metadata": {
    "collapsed": true
   },
   "outputs": [],
   "source": [
    "import csv\n",
    "import cantera as ct\n",
    "\n",
    "# unit conversion factors to SI\n",
    "cm = 0.01\n",
    "minute = 60.0"
   ]
  },
  {
   "cell_type": "markdown",
   "metadata": {},
   "source": [
    "### Input Parameters"
   ]
  },
  {
   "cell_type": "code",
   "execution_count": 4,
   "metadata": {
    "collapsed": true
   },
   "outputs": [],
   "source": [
    "tc = 800.0  # Temperature in Celsius\n",
    "length = 0.3 * cm  # Catalyst bed length\n",
    "area = 1.0 * cm**2  # Catalyst bed area\n",
    "cat_area_per_vol = 1000.0 / cm  # Catalyst particle surface area per unit volume\n",
    "velocity = 40.0 * cm / minute  # gas velocity\n",
    "porosity = 0.3  # Catalyst bed porosity\n",
    "\n",
    "# input file containing the surface reaction mechanism\n",
    "cti_file = 'methane_pox_on_pt.cti'\n",
    "\n",
    "output_filename = 'surf_pfr_output.csv'\n",
    "\n",
    "# The PFR will be simulated by a chain of 'NReactors' stirred reactors.\n",
    "NReactors = 201\n",
    "dt = 1.0"
   ]
  },
  {
   "cell_type": "markdown",
   "metadata": {},
   "source": [
    "### Problem Setup"
   ]
  },
  {
   "cell_type": "code",
   "execution_count": 6,
   "metadata": {},
   "outputs": [],
   "source": [
    "t = tc + 273.15  # convert to Kelvin\n",
    "\n",
    "# import the gas model and set the initial conditions\n",
    "gas = ct.Solution(cti_file, 'gas')\n",
    "gas.TPX = t, ct.one_atm, 'CH4:1, O2:1.5, AR:0.1'\n",
    "\n",
    "# import the surface model\n",
    "surf = ct.Interface(cti_file,'Pt_surf', [gas])\n",
    "surf.TP = t, ct.one_atm\n",
    "\n",
    "rlen = length/(NReactors-1)\n",
    "rvol = area * rlen * porosity\n",
    "\n",
    "outfile = open(output_filename,'w')\n",
    "writer = csv.writer(outfile)\n",
    "writer.writerow(['Distance (mm)', 'T (C)', 'P (atm)'] +\n",
    "                gas.species_names + surf.species_names)\n",
    "\n",
    "# catalyst area in one reactor\n",
    "cat_area = cat_area_per_vol * rvol\n",
    "\n",
    "mass_flow_rate = velocity * gas.density * area\n",
    "\n",
    "# The plug flow reactor is represented by a linear chain of zero-dimensional\n",
    "# reactors. The gas at the inlet to the first one has the specified inlet\n",
    "# composition, and for all others the inlet composition is fixed at the\n",
    "# composition of the reactor immediately upstream. Since in a PFR model there\n",
    "# is no diffusion, the upstream reactors are not affected by any downstream\n",
    "# reactors, and therefore the problem may be solved by simply marching from\n",
    "# the first to last reactor, integrating each one to steady state.\n",
    "\n",
    "TDY = gas.TDY\n",
    "cov = surf.coverages\n",
    "\n",
    "# create a new reactor\n",
    "gas.TDY = TDY\n",
    "r = ct.IdealGasReactor(gas, energy='off')\n",
    "r.volume = rvol\n",
    "\n",
    "# create a reservoir to represent the reactor immediately upstream. Note\n",
    "# that the gas object is set already to the state of the upstream reactor\n",
    "upstream = ct.Reservoir(gas, name='upstream')\n",
    "\n",
    "# create a reservoir for the reactor to exhaust into. The composition of\n",
    "# this reservoir is irrelevant.\n",
    "downstream = ct.Reservoir(gas, name='downstream')\n",
    "\n",
    "# Add the reacting surface to the reactor. The area is set to the desired\n",
    "# catalyst area in the reactor.\n",
    "rsurf = ct.ReactorSurface(surf, r, A=cat_area)\n",
    "\n",
    "# The mass flow rate into the reactor will be fixed by using a\n",
    "# MassFlowController object.\n",
    "m = ct.MassFlowController(upstream, r, mdot=mass_flow_rate)\n",
    "\n",
    "# We need an outlet to the downstream reservoir. This will determine the\n",
    "# pressure in the reactor. The value of K will only affect the transient\n",
    "# pressure difference.\n",
    "v = ct.PressureController(r, downstream, master=m, K=1e-5)\n",
    "\n",
    "sim = ct.ReactorNet([r])\n",
    "sim.max_err_test_fails = 12\n",
    "\n",
    "# set relative and absolute tolerances on the simulation\n",
    "sim.rtol = 1.0e-9\n",
    "sim.atol = 1.0e-21"
   ]
  },
  {
   "cell_type": "code",
   "execution_count": 7,
   "metadata": {},
   "outputs": [
    {
     "name": "stdout",
     "output_type": "stream",
     "text": [
      "    distance       X_CH4        X_H2        X_CO\n",
      "    0.000000    0.093914    0.000710    0.010245\n",
      "    0.150000    0.060300    0.099169    0.021116\n",
      "    0.300000    0.050055    0.128758    0.025897\n",
      "    0.450000    0.044192    0.145292    0.029031\n",
      "    0.600000    0.040135    0.156576    0.031358\n",
      "    0.750000    0.037054    0.165070    0.033200\n",
      "    0.900000    0.034582    0.171843    0.034720\n",
      "    1.050000    0.032526    0.177451    0.036012\n",
      "    1.200000    0.030770    0.182219    0.037133\n",
      "    1.350000    0.029242    0.186356    0.038121\n",
      "    1.500000    0.027893    0.189999    0.039005\n",
      "    1.650000    0.026687    0.193248    0.039802\n",
      "    1.800000    0.025599    0.196173    0.040528\n",
      "    1.950000    0.024609    0.198830    0.041193\n",
      "    2.100000    0.023702    0.201259    0.041806\n",
      "    2.250000    0.022867    0.203493    0.042374\n",
      "    2.400000    0.022093    0.205558    0.042904\n",
      "    2.550000    0.021374    0.207477    0.043398\n",
      "    2.700000    0.020702    0.209265    0.043862\n",
      "    2.850000    0.020073    0.210939    0.044298\n",
      "    3.000000    0.019482    0.212510    0.044710\n"
     ]
    }
   ],
   "source": [
    "print('    distance       X_CH4        X_H2        X_CO')\n",
    "\n",
    "for n in range(NReactors):\n",
    "    # Set the state of the reservoir to match that of the previous reactor\n",
    "    gas.TDY = r.thermo.TDY\n",
    "    upstream.syncState()\n",
    "    sim.reinitialize()\n",
    "    sim.advance_to_steady_state()\n",
    "    dist = n * rlen * 1.0e3   # distance in mm\n",
    "\n",
    "    if not n % 10:\n",
    "        print('  {0:10f}  {1:10f}  {2:10f}  {3:10f}'.format(dist, *gas['CH4','H2','CO'].X))\n",
    "\n",
    "    # write the gas mole fractions and surface coverages vs. distance\n",
    "    #writer.writerow([dist, r.T - 273.15, r.thermo.P/ct.one_atm] +\n",
    "    #                list(gas.X) + list(surf.coverages))\n",
    "\n",
    "#outfile.close()\n",
    "#print(\"Results saved to '{0}'\".format(output_filename))    "
   ]
  },
  {
   "cell_type": "code",
   "execution_count": null,
   "metadata": {
    "collapsed": true
   },
   "outputs": [],
   "source": []
  }
 ],
 "metadata": {
  "kernelspec": {
   "display_name": "Python 3",
   "language": "python",
   "name": "python3"
  },
  "language_info": {
   "codemirror_mode": {
    "name": "ipython",
    "version": 3
   },
   "file_extension": ".py",
   "mimetype": "text/x-python",
   "name": "python",
   "nbconvert_exporter": "python",
   "pygments_lexer": "ipython3",
   "version": "3.6.3"
  }
 },
 "nbformat": 4,
 "nbformat_minor": 2
}
