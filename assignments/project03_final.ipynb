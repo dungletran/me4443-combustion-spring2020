{
 "cells": [
  {
   "cell_type": "markdown",
   "metadata": {},
   "source": [
    "# ME 4443 - Final Assignment\n",
    "\n",
    " - **Due date: May 7th, 2020 (5:00pm)**\n",
    " - **Assignment:** work is individual. \n",
    " - **Submission:** via Gradescope ... two separate pdf documents containing:\n",
    "    - Write-up (95% of grade): type-set solution (Undergraduate students: maximum of 3 pages total; graduate students: maximum of 4 pages total), including all text, equations, figures, tables, etc.; section headings should follow problems; provide appropriate figure and/or table captions.\n",
    "    - Code listing (5% of grade): needs to be complete and does not count towards page maxima. "
   ]
  },
  {
   "cell_type": "markdown",
   "metadata": {},
   "source": [
    "## Problem Statement\n",
    "\n",
    "Your text book gives correlations for laminar flame speeds as a function of unburned temperature, pressure etc. (see Eq. 8.31, 8.32 and 8.33). An example illustrating the simulation of freely propagating adiabatic flames is provided in [24_adiabatic_flame](../examples/24_adiabatic_flame.ipynb). Note that the kinetics mechanism should be changed to GRI3.0 (or a suitable alternative).\n",
    "\n",
    "### Part 1:\n",
    "\n",
    "Compare predicted values from correlations of Eq. 8.33 for propane to simulations using Cantera for multiple unburned temperatures and pressures. Use values proposed by the text and assume $\\Phi=\\Phi_M$, illustrate your results and provide insights based on theory (use class notes and text book material). Undergraduate students: use GRI3.0 and show a comparison for at least three (sufficiently spaced) data points for both temperature and pressure. Graduate students: use at least 3 data points to make your case and compare to both GRI3.0 and the more modern (and larger) mechanism: e.g. [AramcoMech 1.3](http://www.nuigalway.ie/c3/mechanismdownloads/index.html) (more recent versions are larger, i.e. simulations will take longer); note that most published mechanisms have to be converted from 'chemkin' format to a Cantera compatible format using the `ck2cti` utility function (instructions are provided in the [Cantera documentation](https://cantera.org/tutorials/ck2cti-tutorial.html)).\n",
    "\n",
    "### Part 2:\n",
    "\n",
    "Develop a correlation similar to the one given in Part 1 for a fuel not listed in Table 8.3 (impact of pressure and temperature only). Undergraduate students: use methane for the fit; GRI 3.0 and at least 3 data points. Graduate students: use any of the [validated fuels](http://www.nuigalway.ie/combustionchemistrycentre/mechanismdownloads/aramcomech13/) listed for AramcoMech 1.3 *other than Propane*; each graduate student should pick a different fuel, i.e. co-ordinate on MS Teams to avoid duplicate efforts (post your choice on a public channel on a first-come/first-pick basis).\n",
    "_Hint:_ when fitting a power law with a structure $y(x) = a x^b$ (see Eq. 8.33), an easier to fit linear expression is obtained by taking the logarithm, i.e. $\\ln(y(x)) = \\ln(a) + b\\ln(x)$.\n",
    "\n",
    "\n",
    "### Part 3:\n",
    "\n",
    "Propose and document power-law correlations for the laminar flame thickness based on results from Part 1&2 (i.e. two fuels), where the flame thickness should be calculated by intersecting the steepest gradient of the temperature with horizontal lines for initial and final temperature. Provide some insights based on theory."
   ]
  },
  {
   "cell_type": "code",
   "execution_count": null,
   "metadata": {},
   "outputs": [],
   "source": []
  }
 ],
 "metadata": {
  "kernelspec": {
   "display_name": "Python 3",
   "language": "python",
   "name": "python3"
  },
  "language_info": {
   "codemirror_mode": {
    "name": "ipython",
    "version": 3
   },
   "file_extension": ".py",
   "mimetype": "text/x-python",
   "name": "python",
   "nbconvert_exporter": "python",
   "pygments_lexer": "ipython3",
   "version": "3.6.10"
  }
 },
 "nbformat": 4,
 "nbformat_minor": 2
}
