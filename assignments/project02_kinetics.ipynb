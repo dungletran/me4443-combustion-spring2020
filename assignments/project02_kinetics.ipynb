{
 "cells": [
  {
   "cell_type": "markdown",
   "metadata": {},
   "source": [
    "# ME 4443 - Project 2 (Comprehensive)\n",
    "\n",
    " - **Due date: ~March 31st~ April 5th, 2020**\n",
    " - **Assignment:** Undergraduate students may work in pairs (it is up to you to find a partner); graduate students should submit individual solutions. \n",
    " - **Guidelines:** discussion among groups is permissible; identical solutions are nevertheless considered academic dishonesty.\n",
    " - **Submission:** single pdf document containing:\n",
    "    - Write-up: type-set solution (Undergraduate students: maximum of 7 pages total; graduate students: maximum of 10 pages total), including all text, equations, figures, tables, etc.; section headings should follow problems; provide appropriate figure and/or table captions.\n",
    "    - Code listing: needs to be complete and does not count towards page maxima."
   ]
  },
  {
   "cell_type": "markdown",
   "metadata": {},
   "source": [
    "## Part 1: Thermodynamic Equilibrium vs. Kinetics (100 pts)\n",
    "\n",
    "### 1.a: Equations\n",
    "\n",
    "Provide all equations needed to solve for the equilibrium concentration for the water-gas shift reaction $\\mathrm{CO_2} + \\mathrm{H_2} \\leftrightarrow \\mathrm{CO} + \\mathrm{H_2O}$ using Gibb's free energy at a given temperature and pressure. **Graduate students:** outline a step-by-step algorithm that would allow you to solve the equations (you may assume knowledge of equilibrium constants and/or reaction rates for the _global_ reaction step).\n",
    "\n",
    "### 1.b: Gibbs Free Energy\n",
    "\n",
    "The jupyter notebook [06_thermo_gibbs](../examples/06_thermo_gibbs.ipynb) illustrates Gibbs free energy for product/reactant mixtures at a given temperature and pressure. In addition, the notebook also provides a results for the case where additional species are considered (equilibrium: the water-gas shift reaction is _not_ an elementary reaction; instead, it reproduces the effect of multiple elementary reactions).\n",
    "\n",
    "Illustrate the following (using tables/figures as appropriate), which should include both idealized and actual trends. Undergraduate students working in pairs can split effort, but need to identify who did what part: \n",
    " * Effect of temperature on product composition\n",
    " * Effect of pressure on product composition\n",
    " \n",
    "### 1.c: Reaction Pathways\n",
    "\n",
    "The jupyter notebook [07_kinetics_watergasshift](../examples/07_kinetics_watergasshift.ipynb) illustrates the overall reaction pathways that result in the water-gas shift reaction. Compare results to results of 1.a/b, _document your findings_ and _interpret results_. Specifically, propose a mechanism (i.e. the fewest possible set of reactions) that result in the global reaction equation given in 1.a. **Graduate students:** comment on species/reactions where quasi-steady-state (QSS) and/or partial equilibrium approximations would apply, and provide a rationale.\n",
    "\n",
    "**Note:** in order to visualize reaction paths, you need to install additional python packages (`graphviz`), see [installation in instructions](../install_cantera.ipynb)."
   ]
  },
  {
   "cell_type": "markdown",
   "metadata": {},
   "source": [
    "## Part 2: Kinetics (100 pts)\n",
    "\n",
    "Undergraduate students working in pairs should split the effort, and need to identify who takes credit for which part.\n",
    "\n",
    "### 2.a NOx Formation\n",
    "\n",
    "The jupyter notebook [08_kinetics_nox_submechanism](../examples/08_kinetics_nox_submechanisn.ipynb) illustrates relevant portions of NOx formation. Comparing notes from lecture, identify the most relevant reactions involved in the reactions (note: there are _two_ different mechanisms at play). Illustrate how temperature affects NOx formation; _document your findings_ and _interpret results_ using appropriate means (i.e. figures, tables and/or diagrams). **Graduate students:** comment on whether and/or how the amount of $\\mathrm{H_2O}$ available in reactants affects $\\mathrm{NOx}$ concentrations.\n",
    "\n",
    "### 2.b Fuel Breakdown\n",
    "\n",
    "The jupyter notebook [09_kinetics_reaction_path](../examples/09_kinetics_reaction_path.ipynb) illustrates fuel breakdown for methane. Compare the overall fuel breakdown for a **fuel of your choice (other than methane; should be part of GRI3.0)**; identify the most relevant reactions, and reference your findings to textbook(s) and/or lecture notes. **Graduate Students:** The code uses a reactor object where simulations can be stopped at any given temperature. Describe how this simulation differs from simulations used in ~2.c~ 1.c and ~3.a.~ 2.a Comment on how fuel breakdown changes as fuel is depleted and temperature increases; _document your findings_ and _interpret results_ using appropriate means."
   ]
  },
  {
   "cell_type": "markdown",
   "metadata": {},
   "source": [
    "## Part 3: Reactors (100 pts)\n",
    "\n",
    "Undergraduate students working in pairs should split the effort, and need to identify who takes credit for which part.\n",
    "\n",
    "### 3.a Continuously/Perfectly Stirred Reactor\n",
    "\n",
    "The jupyter notebook [18_reactor_psr_simplified](../examples/18_reactor_psr_simplified.ipynb) is a simplified version of the [online resource](https://github.com/Cantera/cantera-jupyter/blob/master/reactors/stirred_reactor.ipynb). Illustrate reactor blow-off for a transient solution (Note: templates do not contain ready-to-run code; simulations do, however, work _exactly_ like the time integration in ~4.a.~ 3.a.) Illustrate how residence times affect product compositions for the fuel of your choice in ~3.b~ 2.b (using GRI3.0). **Graduate Students:** Illustrate how results obtained for atmospheric conditions differ from results at 20 bars.\n",
    "\n",
    "### 3.b Ignition Delays\n",
    "\n",
    "The jupyter notebook [12_reactor_ignition_delay](../examples/12_reactor_ignition_delay.ipynb) illustrates the estimation of ignition delays based on simulations. Illustrate the calculation of ignition delays $t_d$ using an appropriate figure with clear labels. Then, illustrate how temperature affects results using axes of $\\log(t_d)$ and $1000/T$. Note that this [online resource](https://github.com/Cantera/cantera-jupyter/blob/master/reactors/batch_reactor_ignition_delay_NTC.ipynb) does contain useful information, although it uses a constant volume reactor. Illustrate results for the fuel of your choice in ~3.b.~ 2.b. (using GRI3.0), and comment on how/why results differ from the online resource. **Graduate Students:** Illustrate how results obtained for atmospheric conditions differ from results at 20 bars.\n",
    "\n",
    "\n",
    "### 3.c Ignition Delays (cont'd)\n",
    "\n",
    "**Graduate Students only:** Repeat 3.b assuming a constant volume reactor. Illustrate differences and provide explanations."
   ]
  },
  {
   "cell_type": "code",
   "execution_count": null,
   "metadata": {},
   "outputs": [],
   "source": []
  }
 ],
 "metadata": {
  "kernelspec": {
   "display_name": "Python 3",
   "language": "python",
   "name": "python3"
  },
  "language_info": {
   "codemirror_mode": {
    "name": "ipython",
    "version": 3
   },
   "file_extension": ".py",
   "mimetype": "text/x-python",
   "name": "python",
   "nbconvert_exporter": "python",
   "pygments_lexer": "ipython3",
   "version": "3.8.2"
  }
 },
 "nbformat": 4,
 "nbformat_minor": 2
}
