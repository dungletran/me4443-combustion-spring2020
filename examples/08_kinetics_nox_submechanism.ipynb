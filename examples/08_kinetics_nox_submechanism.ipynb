{
 "cells": [
  {
   "cell_type": "markdown",
   "metadata": {},
   "source": [
    "# Kinetics - NOx Submechanism\n",
    "\n",
    "```\n",
    "Created for ME 4443 @ LSU (Spring 2018)\n",
    "```"
   ]
  },
  {
   "cell_type": "code",
   "execution_count": 1,
   "metadata": {},
   "outputs": [],
   "source": [
    "# modules used\n",
    "import cantera as ct\n",
    "import numpy as np\n",
    "import graphviz\n",
    "import os\n",
    "\n",
    "import matplotlib.pyplot as plt\n",
    "%matplotlib notebook"
   ]
  },
  {
   "cell_type": "markdown",
   "metadata": {},
   "source": [
    "### Reaction Mechanism\n",
    "\n",
    "Reactions/species:\n",
    " * `gas.n_species`\n",
    " * `gas.species_names`\n",
    " * `gas.n_reactions`\n",
    " * `gas.reaction_equations()`\n",
    "\n",
    "Stoichiometric coefficient matrices:\n",
    " * `gas.reactant_stoich_coeffs()`\n",
    " * `gas.product_stoich_coeffs()`\n",
    "\n",
    "Equilibrium constant and rate constants:  \n",
    " * `gas.equilibrium_constants`\n",
    " * `gas.forward_rate_constants`\n",
    " * `gas.reverse_rate_constants`\n",
    " \n",
    "Rate of progress (product of concentrations and rate constants)\n",
    " * `gas.forward_rates_of_progress`\n",
    " * `gas.reverse_rates_of_progress`\n",
    " * `gas.net_rates_of_progress`\n",
    " \n",
    "Species creation rates:\n",
    " * `gas.creation_rates`\n",
    " * `gas.destruction_rates`\n",
    " * `gas.net_production_rates`\n",
    " \n",
    "### Reactor Networks\n",
    "\n",
    "A _Reactor Network_ can be used to track the state of a mixture over time. Advancing by a short time step allows reactions to take place, i.e. radicals, intermediate species, etc. will form. Below is a simple example:\n",
    "\n",
    "```\n",
    "r = ct.IdealGasReactor(gas)\n",
    "net = ct.ReactorNet([r])\n",
    "net.advance(1.e-3) # <--- elapsed time\n",
    "```"
   ]
  },
  {
   "cell_type": "markdown",
   "metadata": {},
   "source": [
    "## Analyze NO Sub-Mechanism"
   ]
  },
  {
   "cell_type": "code",
   "execution_count": 2,
   "metadata": {},
   "outputs": [
    {
     "name": "stdout",
     "output_type": "stream",
     "text": [
      "Species: H2, H, O, O2, OH, H2O, N, NO, NO2, N2\n"
     ]
    }
   ],
   "source": [
    "# Reduce species\n",
    "all_species = ct.Species.listFromFile('gri30.xml')\n",
    "species = []\n",
    "\n",
    "# Filter species\n",
    "for S in all_species:\n",
    "    comp = S.composition\n",
    "    if 'C' in comp:\n",
    "        # exclude all carbon compounds\n",
    "        continue\n",
    "    if 'H' in comp and S.name not in {'OH','H2','H', 'H2O'}:\n",
    "        # exclude most compounds including H (but )\n",
    "        continue\n",
    "    if S.name in {'AR','N2O'}:\n",
    "        # exclude some remaining species\n",
    "        continue\n",
    "\n",
    "    species.append(S)\n",
    "\n",
    "species_names = {S.name for S in species}\n",
    "print('Species: {0}'.format(', '.join(S.name for S in species)))"
   ]
  },
  {
   "cell_type": "code",
   "execution_count": 3,
   "metadata": {},
   "outputs": [
    {
     "name": "stdout",
     "output_type": "stream",
     "text": [
      "\n",
      "Reactions:\n",
      "2 O + M <=> O2 + M\n",
      "H + O + M <=> OH + M\n",
      "H2 + O <=> H + OH\n",
      "H + O2 <=> O + OH\n",
      "2 H + M <=> H2 + M\n",
      "2 H + H2 <=> 2 H2\n",
      "2 H + H2O <=> H2 + H2O\n",
      "H + OH + M <=> H2O + M\n",
      "H2 + OH <=> H + H2O\n",
      "2 OH <=> H2O + O\n",
      "N + NO <=> N2 + O\n",
      "N + O2 <=> NO + O\n",
      "N + OH <=> H + NO\n",
      "NO + O + M <=> NO2 + M\n",
      "NO2 + O <=> NO + O2\n",
      "H + NO2 <=> NO + OH\n"
     ]
    }
   ],
   "source": [
    "# Filter reactions, keeping only those that only involve the selected species\n",
    "all_reactions = ct.Reaction.listFromFile('gri30.xml')\n",
    "reactions = []\n",
    "\n",
    "print('\\nReactions:')\n",
    "for R in all_reactions:\n",
    "    if not all(reactant in species_names for reactant in R.reactants):\n",
    "        continue\n",
    "\n",
    "    if not all(product in species_names for product in R.products):\n",
    "        continue\n",
    "\n",
    "    reactions.append(R)\n",
    "    print(R.equation)"
   ]
  },
  {
   "cell_type": "code",
   "execution_count": 4,
   "metadata": {},
   "outputs": [],
   "source": [
    "gas = ct.Solution(thermo='IdealGas', kinetics='GasKinetics',\n",
    "                species=species, reactions=reactions)"
   ]
  },
  {
   "cell_type": "markdown",
   "metadata": {},
   "source": [
    "### Initial State\n",
    "\n",
    "get some information on the mechanism"
   ]
  },
  {
   "cell_type": "code",
   "execution_count": 5,
   "metadata": {},
   "outputs": [],
   "source": [
    "pres = 101325.0      # pressure\n",
    "temp = 2100.         # temperature\n",
    "comp = 'N2:.79,O2:.21,H2O:.01' # include trace amount of H2O"
   ]
  },
  {
   "cell_type": "code",
   "execution_count": 6,
   "metadata": {},
   "outputs": [
    {
     "name": "stdout",
     "output_type": "stream",
     "text": [
      "\n",
      "       temperature            2100  K\n",
      "          pressure          101325  Pa\n",
      "           density          0.1668  kg/m^3\n",
      "  mean mol. weight         28.7431  amu\n",
      "\n",
      "                          1 kg            1 kmol\n",
      "                       -----------      ------------\n",
      "          enthalpy       2.025e+06        5.821e+07     J\n",
      "   internal energy      1.4176e+06        4.075e+07     J\n",
      "           entropy          9118.1        2.621e+05     J/K\n",
      "    Gibbs function     -1.7123e+07       -4.922e+08     J\n",
      " heat capacity c_p          1276.9         3.67e+04     J/K\n",
      " heat capacity c_v          987.65        2.839e+04     J/K\n",
      "\n",
      "                           X                 Y          Chem. Pot. / RT\n",
      "                     -------------     ------------     ------------\n",
      "                O2       0.207921         0.231472         -30.5107\n",
      "               H2O     0.00990099       0.00620563         -46.1514\n",
      "                N2       0.782178         0.762323         -27.3428\n",
      "     [   +7 minor]              0                0\n",
      "\n"
     ]
    }
   ],
   "source": [
    "# set state\n",
    "gas.TPX = temp,pres,comp\n",
    "gas()"
   ]
  },
  {
   "cell_type": "markdown",
   "metadata": {},
   "source": [
    "### After Advancing Reactions"
   ]
  },
  {
   "cell_type": "code",
   "execution_count": 7,
   "metadata": {},
   "outputs": [
    {
     "name": "stdout",
     "output_type": "stream",
     "text": [
      "\n",
      "       temperature            2100  K\n",
      "          pressure          101382  Pa\n",
      "           density          0.1668  kg/m^3\n",
      "  mean mol. weight         28.7268  amu\n",
      "\n",
      "                          1 kg            1 kmol\n",
      "                       -----------      ------------\n",
      "          enthalpy      2.0674e+06        5.939e+07     J\n",
      "   internal energy      1.4596e+06        4.193e+07     J\n",
      "           entropy          9141.4        2.626e+05     J/K\n",
      "    Gibbs function      -1.713e+07       -4.921e+08     J\n",
      " heat capacity c_p          1276.9        3.668e+04     J/K\n",
      " heat capacity c_v          987.43        2.837e+04     J/K\n",
      "\n",
      "                           X                 Y          Chem. Pot. / RT\n",
      "                     -------------     ------------     ------------\n",
      "                H2    1.23595e-05      8.67316e-07          -30.936\n",
      "                 H    1.09594e-05      3.84534e-07          -15.468\n",
      "                 O     0.00062479      0.000347977         -15.2686\n",
      "                O2       0.202369         0.225419         -30.5372\n",
      "                OH    0.000989027      0.000585541         -30.7366\n",
      "               H2O     0.00938302       0.00588432         -46.2046\n",
      "                 N    3.15881e-09      1.54019e-09         -13.6745\n",
      "                NO     0.00973772        0.0101714         -28.9431\n",
      "               NO2    1.41327e-05      2.26333e-05         -44.2118\n",
      "                N2       0.776859         0.757568          -27.349\n",
      "\n"
     ]
    }
   ],
   "source": [
    "# create reactor and take small step to get non-zero radical concentrations\n",
    "gas.TPX = temp,pres,comp\n",
    "r = ct.IdealGasReactor(gas,energy='off')\n",
    "net = ct.ReactorNet([r])\n",
    "net.advance_to_steady_state()\n",
    "#net.advance(1.e-3)\n",
    "gas()"
   ]
  },
  {
   "cell_type": "markdown",
   "metadata": {},
   "source": [
    "#### Reaction Rates of Progress / Species Production"
   ]
  },
  {
   "cell_type": "markdown",
   "metadata": {},
   "source": [
    "get information on species creation/destruction rates"
   ]
  },
  {
   "cell_type": "code",
   "execution_count": 8,
   "metadata": {},
   "outputs": [
    {
     "data": {
      "text/plain": [
       "[(0.19739687517262647, <ElementaryReaction: H + O2 <=> O + OH>),\n",
       " (0.18357617985351088, <ElementaryReaction: 2 OH <=> H2O + O>),\n",
       " (0.0040651345689079908, <ElementaryReaction: H2 + OH <=> H + H2O>),\n",
       " (0.0027340921680154328, <ThreeBodyReaction: NO + O + M <=> NO2 + M>),\n",
       " (0.0020978910741396082, <ElementaryReaction: H2 + O <=> H + OH>),\n",
       " (0.0012297572827989487, <ElementaryReaction: NO2 + O <=> NO + O2>),\n",
       " (0.00063232599952216381, <ElementaryReaction: H + NO2 <=> NO + OH>),\n",
       " (8.5802215476505104e-05, <ElementaryReaction: N + O2 <=> NO + O>),\n",
       " (2.571692562860953e-05, <ElementaryReaction: N + NO <=> N2 + O>),\n",
       " (1.084861277348018e-05, <ThreeBodyReaction: H + OH + M <=> H2O + M>),\n",
       " (4.956846973981777e-06, <ThreeBodyReaction: 2 O + M <=> O2 + M>),\n",
       " (3.2271828792072313e-06, <ElementaryReaction: N + OH <=> H + NO>),\n",
       " (3.3413198988558221e-07, <ThreeBodyReaction: H + O + M <=> OH + M>),\n",
       " (1.1091382433778121e-08, <ThreeBodyReaction: 2 H + M <=> H2 + M>),\n",
       " (9.3116053324709512e-10, <ElementaryReaction: 2 H + H2O <=> H2 + H2O>),\n",
       " (2.655925772917874e-13, <ElementaryReaction: 2 H + H2 <=> 2 H2>)]"
      ]
     },
     "execution_count": 8,
     "metadata": {},
     "output_type": "execute_result"
    }
   ],
   "source": [
    "# Get the reaction objects, and sort them so the most active reactions are first\n",
    "R = sorted(zip(gas.forward_rates_of_progress, gas.reactions()), key=lambda x: -np.abs(x[0]))\n",
    "R"
   ]
  },
  {
   "cell_type": "code",
   "execution_count": 9,
   "metadata": {},
   "outputs": [
    {
     "data": {
      "text/plain": [
       "[(0.1973968751726268, <ElementaryReaction: H + O2 <=> O + OH>),\n",
       " (0.18357617985351138, <ElementaryReaction: 2 OH <=> H2O + O>),\n",
       " (0.0040651345689080012, <ElementaryReaction: H2 + OH <=> H + H2O>),\n",
       " (0.0027340921680154649, <ThreeBodyReaction: NO + O + M <=> NO2 + M>),\n",
       " (0.0020978910741396087, <ElementaryReaction: H2 + O <=> H + OH>),\n",
       " (0.0012297572827989426, <ElementaryReaction: NO2 + O <=> NO + O2>),\n",
       " (0.00063232599952216164, <ElementaryReaction: H + NO2 <=> NO + OH>),\n",
       " (8.5802215486293132e-05, <ElementaryReaction: N + O2 <=> NO + O>),\n",
       " (2.571692561845312e-05, <ElementaryReaction: N + NO <=> N2 + O>),\n",
       " (1.0848612773480371e-05, <ThreeBodyReaction: H + OH + M <=> H2O + M>),\n",
       " (4.9568469739818219e-06, <ThreeBodyReaction: 2 O + M <=> O2 + M>),\n",
       " (3.2271828795753603e-06, <ElementaryReaction: N + OH <=> H + NO>),\n",
       " (3.3413198988558523e-07, <ThreeBodyReaction: H + O + M <=> OH + M>),\n",
       " (1.1091382433778282e-08, <ThreeBodyReaction: 2 H + M <=> H2 + M>),\n",
       " (9.3116053324710866e-10, <ElementaryReaction: 2 H + H2O <=> H2 + H2O>),\n",
       " (2.6559257729179123e-13, <ElementaryReaction: 2 H + H2 <=> 2 H2>)]"
      ]
     },
     "execution_count": 9,
     "metadata": {},
     "output_type": "execute_result"
    }
   ],
   "source": [
    "# Get the reaction objects, and sort them so the most active reactions are first\n",
    "R = sorted(zip(gas.reverse_rates_of_progress, gas.reactions()), key=lambda x: -np.abs(x[0]))\n",
    "R"
   ]
  },
  {
   "cell_type": "code",
   "execution_count": 10,
   "metadata": {},
   "outputs": [
    {
     "data": {
      "text/plain": [
       "[(1.0156409540424891e-14, <ElementaryReaction: N + NO <=> N2 + O>),\n",
       " (-9.7880281354004173e-15, <ElementaryReaction: N + O2 <=> NO + O>),\n",
       " (-4.9960036108132044e-16, <ElementaryReaction: 2 OH <=> H2O + O>),\n",
       " (-3.6812898920619147e-16, <ElementaryReaction: N + OH <=> H + NO>),\n",
       " (-3.3306690738754696e-16, <ElementaryReaction: H + O2 <=> O + OH>),\n",
       " (-3.2092384305570931e-17, <ThreeBodyReaction: NO + O + M <=> NO2 + M>),\n",
       " (-1.0408340855860843e-17, <ElementaryReaction: H2 + OH <=> H + H2O>),\n",
       " (6.0715321659188248e-18, <ElementaryReaction: NO2 + O <=> NO + O2>),\n",
       " (2.1684043449710089e-18, <ElementaryReaction: H + NO2 <=> NO + OH>),\n",
       " (-4.3368086899420177e-19, <ElementaryReaction: H2 + O <=> H + OH>),\n",
       " (-1.9142944607947188e-19, <ThreeBodyReaction: H + OH + M <=> H2O + M>),\n",
       " (-4.4892746204477918e-20, <ThreeBodyReaction: 2 O + M <=> O2 + M>),\n",
       " (-3.017554874593445e-21, <ThreeBodyReaction: H + O + M <=> OH + M>),\n",
       " (-1.6047303883528737e-22, <ThreeBodyReaction: 2 H + M <=> H2 + M>),\n",
       " (-1.3545082530555828e-23, <ElementaryReaction: 2 H + H2O <=> H2 + H2O>),\n",
       " (-3.8370194429950014e-27, <ElementaryReaction: 2 H + H2 <=> 2 H2>)]"
      ]
     },
     "execution_count": 10,
     "metadata": {},
     "output_type": "execute_result"
    }
   ],
   "source": [
    "# Get the reaction objects, and sort them so the most active reactions are first\n",
    "R = sorted(zip(gas.net_rates_of_progress, gas.reactions()), key=lambda x: -np.abs(x[0]))\n",
    "R"
   ]
  },
  {
   "cell_type": "code",
   "execution_count": 11,
   "metadata": {},
   "outputs": [
    {
     "data": {
      "text/plain": [
       "[(0.57135899644986199, <Species OH>),\n",
       " (0.3871565625181343, <Species O>),\n",
       " (0.20420666078845623, <Species H>),\n",
       " (0.19871739151788603, <Species O2>),\n",
       " (0.18765216489751341, <Species H2O>),\n",
       " (0.0061630376663873538, <Species H2>),\n",
       " (0.004710921774310743, <Species NO>),\n",
       " (0.0045961754503365372, <Species NO2>),\n",
       " (0.00011474632398432162, <Species N>),\n",
       " (2.571692562860953e-05, <Species N2>)]"
      ]
     },
     "execution_count": 11,
     "metadata": {},
     "output_type": "execute_result"
    }
   ],
   "source": [
    "# Get the reaction objects, and sort them so the most active species are first\n",
    "S = sorted(zip(gas.creation_rates, gas.species()), key=lambda x: -np.abs(x[0]))\n",
    "S"
   ]
  },
  {
   "cell_type": "code",
   "execution_count": 12,
   "metadata": {},
   "outputs": [
    {
     "data": {
      "text/plain": [
       "[(0.57135899644986099, <Species OH>),\n",
       " (0.38715656251813491, <Species O>),\n",
       " (0.20420666078845631, <Species H>),\n",
       " (0.19871739151787587, <Species O2>),\n",
       " (0.18765216489751393, <Species H2O>),\n",
       " (0.0061630376663873434, <Species H2>),\n",
       " (0.004710921774331015, <Species NO>),\n",
       " (0.004596175450336578, <Species NO2>),\n",
       " (0.00011474632398432186, <Species N>),\n",
       " (2.571692561845312e-05, <Species N2>)]"
      ]
     },
     "execution_count": 12,
     "metadata": {},
     "output_type": "execute_result"
    }
   ],
   "source": [
    "# Get the reaction objects, and sort them so the most active species are first\n",
    "S = sorted(zip(gas.destruction_rates, gas.species()), key=lambda x: -np.abs(x[0]))\n",
    "S"
   ]
  },
  {
   "cell_type": "code",
   "execution_count": 13,
   "metadata": {},
   "outputs": [
    {
     "data": {
      "text/plain": [
       "[(-2.0272234344215039e-14, <Species NO>),\n",
       " (1.0156409540424891e-14, <Species N2>),\n",
       " (1.0127121682207679e-14, <Species O2>),\n",
       " (1.0465942802043279e-15, <Species OH>),\n",
       " (-5.1020013138326076e-16, <Species H2O>),\n",
       " (-4.377385273884643e-16, <Species O>),\n",
       " (-4.7877712843599726e-17, <Species H>),\n",
       " (-4.0332320816460765e-17, <Species NO2>),\n",
       " (1.0841847702896659e-17, <Species H2>),\n",
       " (-2.524158182817815e-19, <Species N>)]"
      ]
     },
     "execution_count": 13,
     "metadata": {},
     "output_type": "execute_result"
    }
   ],
   "source": [
    "# Get the reaction objects, and sort them so the most active species are first\n",
    "S = sorted(zip(gas.net_production_rates, gas.species()), key=lambda x: -np.abs(x[0]))\n",
    "S"
   ]
  },
  {
   "cell_type": "markdown",
   "metadata": {},
   "source": [
    "### Reaction Path Diagram"
   ]
  },
  {
   "cell_type": "code",
   "execution_count": 14,
   "metadata": {},
   "outputs": [
    {
     "name": "stdout",
     "output_type": "stream",
     "text": [
      "Wrote graphviz input file to '/home/ischoegl/Desktop/lsucombustion/ME4443/examples/rxnpath.dot'.\n"
     ]
    }
   ],
   "source": [
    "element = 'N'\n",
    "\n",
    "diagram = ct.ReactionPathDiagram(gas, element)\n",
    "diagram.title = 'Reaction path diagram following {0}'.format(element)\n",
    "#diagram.label_threshold = 0.01\n",
    "diagram.flow_type = 'OneWayFlow'\n",
    "diagram.threshold = 1.e-10\n",
    "\n",
    "dot_file = 'rxnpath.dot'\n",
    "img_file = 'rxnpath.png'\n",
    "img_path = os.path.join(os.getcwd(), img_file)\n",
    "\n",
    "diagram.write_dot(dot_file)\n",
    "#print(diagram.get_data())\n",
    "\n",
    "print(\"Wrote graphviz input file to '{0}'.\".format(os.path.join(os.getcwd(), dot_file)))"
   ]
  },
  {
   "cell_type": "code",
   "execution_count": 15,
   "metadata": {},
   "outputs": [
    {
     "data": {
      "image/svg+xml": [
       "<?xml version=\"1.0\" encoding=\"UTF-8\" standalone=\"no\"?>\n",
       "<!DOCTYPE svg PUBLIC \"-//W3C//DTD SVG 1.1//EN\"\n",
       " \"http://www.w3.org/Graphics/SVG/1.1/DTD/svg11.dtd\">\n",
       "<!-- Generated by graphviz version 2.40.1 (20161225.0304)\n",
       " -->\n",
       "<!-- Title: reaction_paths Pages: 1 -->\n",
       "<svg width=\"235pt\" height=\"343pt\"\n",
       " viewBox=\"0.00 0.00 235.00 343.00\" xmlns=\"http://www.w3.org/2000/svg\" xmlns:xlink=\"http://www.w3.org/1999/xlink\">\n",
       "<g id=\"graph0\" class=\"graph\" transform=\"scale(1 1) rotate(0) translate(4 339)\">\n",
       "<title>reaction_paths</title>\n",
       "<polygon fill=\"#ffffff\" stroke=\"transparent\" points=\"-4,4 -4,-339 231,-339 231,4 -4,4\"/>\n",
       "<text text-anchor=\"start\" x=\"8\" y=\"-22.8\" font-family=\"Helvetica,sans-Serif\" font-size=\"14.00\" fill=\"#000000\">Scale = 0.0046</text>\n",
       "<text text-anchor=\"middle\" x=\"113.5\" y=\"-7.8\" font-family=\"Helvetica,sans-Serif\" font-size=\"14.00\" fill=\"#000000\"> Reaction path diagram following N</text>\n",
       "<!-- s6 -->\n",
       "<g id=\"node1\" class=\"node\">\n",
       "<title>s6</title>\n",
       "<ellipse fill=\"none\" stroke=\"#000000\" cx=\"102.1033\" cy=\"-317\" rx=\"27\" ry=\"18\"/>\n",
       "<text text-anchor=\"middle\" x=\"102.1033\" y=\"-313.3\" font-family=\"Helvetica,sans-Serif\" font-size=\"14.00\" fill=\"#000000\">N</text>\n",
       "</g>\n",
       "<!-- s9 -->\n",
       "<g id=\"node2\" class=\"node\">\n",
       "<title>s9</title>\n",
       "<ellipse fill=\"none\" stroke=\"#000000\" cx=\"36.1033\" cy=\"-230\" rx=\"27\" ry=\"18\"/>\n",
       "<text text-anchor=\"middle\" x=\"36.1033\" y=\"-226.3\" font-family=\"Helvetica,sans-Serif\" font-size=\"14.00\" fill=\"#000000\">N2</text>\n",
       "</g>\n",
       "<!-- s6&#45;&gt;s9 -->\n",
       "<g id=\"edge1\" class=\"edge\">\n",
       "<title>s6&#45;&gt;s9</title>\n",
       "<path fill=\"none\" stroke=\"#8871e5\" stroke-width=\"5.1\" d=\"M76.5261,-311.1157C50.4368,-304.5343 12.6101,-293.1877 4.1033,-281 .3341,-275.6001 .3581,-269.7692 2.5366,-264.0466\"/>\n",
       "<polygon fill=\"#8871e5\" stroke=\"#8871e5\" stroke-width=\"5.1\" points=\"11.6803,-270.8225 18.1407,-243.6562 -6.3934,-256.9913 11.6803,-270.8225\"/>\n",
       "<text text-anchor=\"middle\" x=\"27.1033\" y=\"-269.8\" font-family=\"Helvetica,sans-Serif\" font-size=\"14.00\" fill=\"#000000\"> 0.0056</text>\n",
       "</g>\n",
       "<!-- s7 -->\n",
       "<g id=\"node3\" class=\"node\">\n",
       "<title>s7</title>\n",
       "<ellipse fill=\"none\" stroke=\"#000000\" cx=\"102.1033\" cy=\"-143\" rx=\"27\" ry=\"18\"/>\n",
       "<text text-anchor=\"middle\" x=\"102.1033\" y=\"-139.3\" font-family=\"Helvetica,sans-Serif\" font-size=\"14.00\" fill=\"#000000\">NO</text>\n",
       "</g>\n",
       "<!-- s6&#45;&gt;s7 -->\n",
       "<g id=\"edge5\" class=\"edge\">\n",
       "<title>s6&#45;&gt;s7</title>\n",
       "<path fill=\"none\" stroke=\"#866ee5\" stroke-width=\"5.31\" d=\"M112.023,-299.978C114.8978,-294.1557 117.6514,-287.4746 119.1033,-281 127.4919,-243.5905 128.7863,-228.1412 118.7037,-186.0295\"/>\n",
       "<polygon fill=\"#866ee5\" stroke=\"#866ee5\" stroke-width=\"5.31\" points=\"130.6115,-182.7106 112.023,-160.022 106.6707,-188.8605 130.6115,-182.7106\"/>\n",
       "<text text-anchor=\"middle\" x=\"149.1033\" y=\"-226.3\" font-family=\"Helvetica,sans-Serif\" font-size=\"14.00\" fill=\"#000000\"> 0.0194</text>\n",
       "</g>\n",
       "<!-- s9&#45;&gt;s6 -->\n",
       "<g id=\"edge2\" class=\"edge\">\n",
       "<title>s9&#45;&gt;s6</title>\n",
       "<path fill=\"none\" stroke=\"#8871e5\" stroke-width=\"5.1\" d=\"M47.8916,-246.6931C55.0583,-256.729 64.4647,-269.704 73.1033,-281 73.1825,-281.1036 73.2619,-281.2073 73.3414,-281.3112\"/>\n",
       "<polygon fill=\"#8871e5\" stroke=\"#8871e5\" stroke-width=\"5.1\" points=\"64.1855,-288.0789 88.9354,-301.0089 82.0295,-273.9525 64.1855,-288.0789\"/>\n",
       "<text text-anchor=\"middle\" x=\"96.1033\" y=\"-269.8\" font-family=\"Helvetica,sans-Serif\" font-size=\"14.00\" fill=\"#000000\"> 0.0056</text>\n",
       "</g>\n",
       "<!-- s9&#45;&gt;s7 -->\n",
       "<g id=\"edge4\" class=\"edge\">\n",
       "<title>s9&#45;&gt;s7</title>\n",
       "<path fill=\"none\" stroke=\"#8871e5\" stroke-width=\"5.1\" d=\"M20.6811,-214.6097C12.0981,-204.1287 4.5325,-190.1823 12.1033,-179 20.9394,-165.9488 35.356,-157.6287 50.0873,-152.3248\"/>\n",
       "<polygon fill=\"#8871e5\" stroke=\"#8871e5\" stroke-width=\"5.1\" points=\"53.2291,-163.2653 75.0198,-145.8036 47.4702,-141.2472 53.2291,-163.2653\"/>\n",
       "<text text-anchor=\"middle\" x=\"35.1033\" y=\"-182.8\" font-family=\"Helvetica,sans-Serif\" font-size=\"14.00\" fill=\"#000000\"> 0.0056</text>\n",
       "</g>\n",
       "<!-- s7&#45;&gt;s6 -->\n",
       "<g id=\"edge6\" class=\"edge\">\n",
       "<title>s7&#45;&gt;s6</title>\n",
       "<path fill=\"none\" stroke=\"#866ee5\" stroke-width=\"5.31\" d=\"M122.4999,-155.0866C140.4084,-167.0036 165.2461,-187.0317 176.1033,-212 182.4836,-226.6728 182.4836,-233.3272 176.1033,-248 169.2327,-263.8003 156.7636,-277.6222 143.9948,-288.6623\"/>\n",
       "<polygon fill=\"#866ee5\" stroke=\"#866ee5\" stroke-width=\"5.31\" points=\"136.2647,-279.0129 122.4999,-304.9134 151.1717,-298.7299 136.2647,-279.0129\"/>\n",
       "<text text-anchor=\"middle\" x=\"203.1033\" y=\"-226.3\" font-family=\"Helvetica,sans-Serif\" font-size=\"14.00\" fill=\"#000000\"> 0.0194</text>\n",
       "</g>\n",
       "<!-- s7&#45;&gt;s9 -->\n",
       "<g id=\"edge3\" class=\"edge\">\n",
       "<title>s7&#45;&gt;s9</title>\n",
       "<path fill=\"none\" stroke=\"#8871e5\" stroke-width=\"5.1\" d=\"M88.9354,-158.9911C83.9104,-165.1853 78.1736,-172.3699 73.1033,-179 69.7963,-183.3242 66.3768,-187.8945 63.0136,-192.4518\"/>\n",
       "<polygon fill=\"#8871e5\" stroke=\"#8871e5\" stroke-width=\"5.1\" points=\"53.6482,-185.9828 47.8916,-213.3069 72.0731,-199.3427 53.6482,-185.9828\"/>\n",
       "<text text-anchor=\"middle\" x=\"96.1033\" y=\"-182.8\" font-family=\"Helvetica,sans-Serif\" font-size=\"14.00\" fill=\"#000000\"> 0.0056</text>\n",
       "</g>\n",
       "<!-- s8 -->\n",
       "<g id=\"node4\" class=\"node\">\n",
       "<title>s8</title>\n",
       "<ellipse fill=\"none\" stroke=\"#000000\" cx=\"102.1033\" cy=\"-56\" rx=\"29.4969\" ry=\"18\"/>\n",
       "<text text-anchor=\"middle\" x=\"102.1033\" y=\"-52.3\" font-family=\"Helvetica,sans-Serif\" font-size=\"14.00\" fill=\"#000000\">NO2</text>\n",
       "</g>\n",
       "<!-- s7&#45;&gt;s8 -->\n",
       "<g id=\"edge7\" class=\"edge\">\n",
       "<title>s7&#45;&gt;s8</title>\n",
       "<path fill=\"none\" stroke=\"#2d00e5\" stroke-width=\"6\" d=\"M92.2539,-126.2144C89.549,-120.4458 87.0557,-113.6798 87.2904,-102.9228\"/>\n",
       "<polygon fill=\"#2d00e5\" stroke=\"#2d00e5\" stroke-width=\"6\" points=\"102.8429,-105.4316 92.763,-73.0826 71.8597,-99.7493 102.8429,-105.4316\"/>\n",
       "<text text-anchor=\"middle\" x=\"92.1033\" y=\"-95.8\" font-family=\"Helvetica,sans-Serif\" font-size=\"14.00\" fill=\"#000000\"> 1</text>\n",
       "</g>\n",
       "<!-- s8&#45;&gt;s7 -->\n",
       "<g id=\"edge8\" class=\"edge\">\n",
       "<title>s8&#45;&gt;s7</title>\n",
       "<path fill=\"none\" stroke=\"#2d00e5\" stroke-width=\"6\" d=\"M102.1033,-74.0034C102.1033,-80.1832 102.1033,-87.4242 102.1033,-94.8479\"/>\n",
       "<polygon fill=\"#2d00e5\" stroke=\"#2d00e5\" stroke-width=\"6\" points=\"86.3534,-94.9735 102.1033,-124.9735 117.8534,-94.9736 86.3534,-94.9735\"/>\n",
       "<text text-anchor=\"middle\" x=\"108.1033\" y=\"-95.8\" font-family=\"Helvetica,sans-Serif\" font-size=\"14.00\" fill=\"#000000\"> 1</text>\n",
       "</g>\n",
       "</g>\n",
       "</svg>\n"
      ],
      "text/plain": [
       "<graphviz.files.Source at 0x7fd54693e278>"
      ]
     },
     "metadata": {},
     "output_type": "display_data"
    }
   ],
   "source": [
    "with open(dot_file) as f:\n",
    "    dot_graph = f.read()\n",
    "display(graphviz.Source(dot_graph))"
   ]
  },
  {
   "cell_type": "code",
   "execution_count": 16,
   "metadata": {},
   "outputs": [
    {
     "name": "stdout",
     "output_type": "stream",
     "text": [
      "Wrote graphviz input file to '/home/ischoegl/Desktop/lsucombustion/ME4443/examples/rxnpath.dot'.\n"
     ]
    }
   ],
   "source": [
    "element = 'O'\n",
    "\n",
    "diagram = ct.ReactionPathDiagram(gas, element)\n",
    "diagram.title = 'Reaction path diagram following {0}'.format(element)\n",
    "#diagram.label_threshold = 0.01\n",
    "diagram.flow_type = 'OneWayFlow'\n",
    "diagram.threshold = 1.e-10\n",
    "\n",
    "dot_file = 'rxnpath.dot'\n",
    "img_file = 'rxnpath.png'\n",
    "img_path = os.path.join(os.getcwd(), img_file)\n",
    "\n",
    "diagram.write_dot(dot_file)\n",
    "#print(diagram.get_data())\n",
    "\n",
    "print(\"Wrote graphviz input file to '{0}'.\".format(os.path.join(os.getcwd(), dot_file)))"
   ]
  },
  {
   "cell_type": "code",
   "execution_count": 17,
   "metadata": {},
   "outputs": [
    {
     "data": {
      "image/svg+xml": [
       "<?xml version=\"1.0\" encoding=\"UTF-8\" standalone=\"no\"?>\n",
       "<!DOCTYPE svg PUBLIC \"-//W3C//DTD SVG 1.1//EN\"\n",
       " \"http://www.w3.org/Graphics/SVG/1.1/DTD/svg11.dtd\">\n",
       "<!-- Generated by graphviz version 2.40.1 (20161225.0304)\n",
       " -->\n",
       "<!-- Title: reaction_paths Pages: 1 -->\n",
       "<svg width=\"560pt\" height=\"517pt\"\n",
       " viewBox=\"0.00 0.00 560.00 517.00\" xmlns=\"http://www.w3.org/2000/svg\" xmlns:xlink=\"http://www.w3.org/1999/xlink\">\n",
       "<g id=\"graph0\" class=\"graph\" transform=\"scale(1 1) rotate(0) translate(4 513)\">\n",
       "<title>reaction_paths</title>\n",
       "<polygon fill=\"#ffffff\" stroke=\"transparent\" points=\"-4,4 -4,-513 556,-513 556,4 -4,4\"/>\n",
       "<text text-anchor=\"start\" x=\"170\" y=\"-22.8\" font-family=\"Helvetica,sans-Serif\" font-size=\"14.00\" fill=\"#000000\">Scale = 0.2</text>\n",
       "<text text-anchor=\"middle\" x=\"276\" y=\"-7.8\" font-family=\"Helvetica,sans-Serif\" font-size=\"14.00\" fill=\"#000000\"> Reaction path diagram following O</text>\n",
       "<!-- s2 -->\n",
       "<g id=\"node1\" class=\"node\">\n",
       "<title>s2</title>\n",
       "<ellipse fill=\"none\" stroke=\"#000000\" cx=\"225\" cy=\"-491\" rx=\"27\" ry=\"18\"/>\n",
       "<text text-anchor=\"middle\" x=\"225\" y=\"-487.3\" font-family=\"Helvetica,sans-Serif\" font-size=\"14.00\" fill=\"#000000\">O</text>\n",
       "</g>\n",
       "<!-- s3 -->\n",
       "<g id=\"node2\" class=\"node\">\n",
       "<title>s3</title>\n",
       "<ellipse fill=\"none\" stroke=\"#000000\" cx=\"316\" cy=\"-404\" rx=\"27\" ry=\"18\"/>\n",
       "<text text-anchor=\"middle\" x=\"316\" y=\"-400.3\" font-family=\"Helvetica,sans-Serif\" font-size=\"14.00\" fill=\"#000000\">O2</text>\n",
       "</g>\n",
       "<!-- s2&#45;&gt;s3 -->\n",
       "<g id=\"edge1\" class=\"edge\">\n",
       "<title>s2&#45;&gt;s3</title>\n",
       "<path fill=\"none\" stroke=\"#2d00e5\" stroke-width=\"6\" d=\"M239.5862,-475.5288C249.4069,-465.2612 262.7528,-451.5922 275,-440 275.4816,-439.5442 275.9675,-439.0864 276.4571,-438.627\"/>\n",
       "<polygon fill=\"#2d00e5\" stroke=\"#2d00e5\" stroke-width=\"6\" points=\"287.1592,-450.1853 298.9901,-418.4348 266.1372,-426.7263 287.1592,-450.1853\"/>\n",
       "<text text-anchor=\"middle\" x=\"281\" y=\"-443.8\" font-family=\"Helvetica,sans-Serif\" font-size=\"14.00\" fill=\"#000000\"> 1</text>\n",
       "</g>\n",
       "<!-- s4 -->\n",
       "<g id=\"node3\" class=\"node\">\n",
       "<title>s4</title>\n",
       "<ellipse fill=\"none\" stroke=\"#000000\" cx=\"225\" cy=\"-143\" rx=\"27\" ry=\"18\"/>\n",
       "<text text-anchor=\"middle\" x=\"225\" y=\"-139.3\" font-family=\"Helvetica,sans-Serif\" font-size=\"14.00\" fill=\"#000000\">OH</text>\n",
       "</g>\n",
       "<!-- s2&#45;&gt;s4 -->\n",
       "<g id=\"edge3\" class=\"edge\">\n",
       "<title>s2&#45;&gt;s4</title>\n",
       "<path fill=\"none\" stroke=\"#2d00e5\" stroke-width=\"5.99\" d=\"M197.9616,-489.142C164.1432,-485.933 105.1956,-477.3727 60,-455 28.6342,-439.4733 0,-438.9984 0,-404 0,-404 0,-404 0,-230 0,-195.0016 28.6342,-194.5267 60,-179 93.8084,-162.2642 135.3121,-153.2574 168.2359,-148.438\"/>\n",
       "<polygon fill=\"#2d00e5\" stroke=\"#2d00e5\" stroke-width=\"5.99\" points=\"170.15,-163.9921 197.9616,-144.858 166.4023,-132.8743 170.15,-163.9921\"/>\n",
       "<text text-anchor=\"middle\" x=\"19\" y=\"-313.3\" font-family=\"Helvetica,sans-Serif\" font-size=\"14.00\" fill=\"#000000\"> 0.934</text>\n",
       "</g>\n",
       "<!-- s7 -->\n",
       "<g id=\"node5\" class=\"node\">\n",
       "<title>s7</title>\n",
       "<ellipse fill=\"none\" stroke=\"#000000\" cx=\"323\" cy=\"-230\" rx=\"27\" ry=\"18\"/>\n",
       "<text text-anchor=\"middle\" x=\"323\" y=\"-226.3\" font-family=\"Helvetica,sans-Serif\" font-size=\"14.00\" fill=\"#000000\">NO</text>\n",
       "</g>\n",
       "<!-- s2&#45;&gt;s7 -->\n",
       "<g id=\"edge10\" class=\"edge\">\n",
       "<title>s2&#45;&gt;s7</title>\n",
       "<path fill=\"none\" stroke=\"#8972e5\" stroke-width=\"4.44\" d=\"M251.6536,-488.0219C307.2321,-480.1707 434.291,-453.2513 482,-368 498.1388,-339.1615 523.4506,-330.4709 459,-266 446.643,-253.6391 405.5952,-243.8473 371.799,-237.6155\"/>\n",
       "<polygon fill=\"#8972e5\" stroke=\"#8972e5\" stroke-width=\"4.44\" points=\"372.8307,-229.0421 349.4946,-233.8016 369.9233,-246.0448 372.8307,-229.0421\"/>\n",
       "<text text-anchor=\"middle\" x=\"521.5\" y=\"-356.8\" font-family=\"Helvetica,sans-Serif\" font-size=\"14.00\" fill=\"#000000\"> 0.000129</text>\n",
       "</g>\n",
       "<!-- s8 -->\n",
       "<g id=\"node6\" class=\"node\">\n",
       "<title>s8</title>\n",
       "<ellipse fill=\"none\" stroke=\"#000000\" cx=\"169\" cy=\"-317\" rx=\"29.4969\" ry=\"18\"/>\n",
       "<text text-anchor=\"middle\" x=\"169\" y=\"-313.3\" font-family=\"Helvetica,sans-Serif\" font-size=\"14.00\" fill=\"#000000\">NO2</text>\n",
       "</g>\n",
       "<!-- s2&#45;&gt;s8 -->\n",
       "<g id=\"edge15\" class=\"edge\">\n",
       "<title>s2&#45;&gt;s8</title>\n",
       "<path fill=\"none\" stroke=\"#876fe5\" stroke-width=\"5.26\" d=\"M202.1606,-481.1538C180.131,-470.2612 148.1122,-450.4108 134,-422 120.3576,-394.535 122.4642,-381.4142 134,-353 134.1066,-352.7375 134.2161,-352.4759 134.3284,-352.2151\"/>\n",
       "<polygon fill=\"#876fe5\" stroke=\"#876fe5\" stroke-width=\"5.26\" points=\"144.0671,-359.4051 150.2425,-331.1194 124.7404,-344.8255 144.0671,-359.4051\"/>\n",
       "<text text-anchor=\"middle\" x=\"157\" y=\"-400.3\" font-family=\"Helvetica,sans-Serif\" font-size=\"14.00\" fill=\"#000000\"> 0.0138</text>\n",
       "</g>\n",
       "<!-- s3&#45;&gt;s2 -->\n",
       "<g id=\"edge2\" class=\"edge\">\n",
       "<title>s3&#45;&gt;s2</title>\n",
       "<path fill=\"none\" stroke=\"#2d00e5\" stroke-width=\"6\" d=\"M308.8407,-421.5834C303.8784,-432.1893 296.4639,-445.4502 287,-455 283.0882,-458.9473 278.6549,-462.6128 274.0011,-465.9747\"/>\n",
       "<polygon fill=\"#2d00e5\" stroke=\"#2d00e5\" stroke-width=\"6\" points=\"265.7545,-452.5528 247.8871,-481.3421 281.7305,-479.7009 265.7545,-452.5528\"/>\n",
       "<text text-anchor=\"middle\" x=\"303\" y=\"-443.8\" font-family=\"Helvetica,sans-Serif\" font-size=\"14.00\" fill=\"#000000\"> 1</text>\n",
       "</g>\n",
       "<!-- s3&#45;&gt;s4 -->\n",
       "<g id=\"edge5\" class=\"edge\">\n",
       "<title>s3&#45;&gt;s4</title>\n",
       "<path fill=\"none\" stroke=\"#2d00e5\" stroke-width=\"6\" d=\"M342.5816,-399.9331C377.0694,-394.1521 434.6486,-382.6183 450,-368 484.0443,-335.5814 485.2893,-312.4418 478,-266 471.7016,-225.8714 480.83,-205.4479 450,-179 425.4713,-157.9577 340.5999,-149.1109 282.4033,-145.4638\"/>\n",
       "<polygon fill=\"#2d00e5\" stroke=\"#2d00e5\" stroke-width=\"6\" points=\"283.0354,-129.7254 252.2506,-143.8803 281.3832,-161.1821 283.0354,-129.7254\"/>\n",
       "<text text-anchor=\"middle\" x=\"499\" y=\"-269.8\" font-family=\"Helvetica,sans-Serif\" font-size=\"14.00\" fill=\"#000000\"> 0.993</text>\n",
       "</g>\n",
       "<!-- s3&#45;&gt;s7 -->\n",
       "<g id=\"edge11\" class=\"edge\">\n",
       "<title>s3&#45;&gt;s7</title>\n",
       "<path fill=\"none\" stroke=\"#8972e5\" stroke-width=\"4.65\" d=\"M317.3455,-385.7396C317.1765,-375.1482 315.2264,-362.1394 308,-353 294.8954,-336.4263 275.7769,-352.5421 264,-335 255.0818,-321.716 255.0818,-312.284 264,-299 275.7769,-281.4579 293.8429,-296.6843 308,-281 310.7006,-278.008 312.9164,-274.5527 314.7341,-270.8791\"/>\n",
       "<polygon fill=\"#8972e5\" stroke=\"#8972e5\" stroke-width=\"4.65\" points=\"323.8529,-273.476 321.5182,-248.4297 305.7031,-267.9912 323.8529,-273.476\"/>\n",
       "<text text-anchor=\"middle\" x=\"294.5\" y=\"-313.3\" font-family=\"Helvetica,sans-Serif\" font-size=\"14.00\" fill=\"#000000\"> 0.000432</text>\n",
       "</g>\n",
       "<!-- s3&#45;&gt;s8 -->\n",
       "<g id=\"edge20\" class=\"edge\">\n",
       "<title>s3&#45;&gt;s8</title>\n",
       "<path fill=\"none\" stroke=\"#8871e5\" stroke-width=\"5.12\" d=\"M295.5299,-392.2259C283.6232,-385.3013 268.3732,-376.3013 255,-368 244.6312,-361.5637 242.4136,-359.3635 232,-353 226.0166,-349.3437 219.6566,-345.5753 213.3667,-341.9166\"/>\n",
       "<polygon fill=\"#8871e5\" stroke=\"#8871e5\" stroke-width=\"5.12\" points=\"218.9707,-331.9097 191.0519,-329.1826 207.6021,-351.8318 218.9707,-331.9097\"/>\n",
       "<text text-anchor=\"middle\" x=\"281.5\" y=\"-356.8\" font-family=\"Helvetica,sans-Serif\" font-size=\"14.00\" fill=\"#000000\"> 0.00619</text>\n",
       "</g>\n",
       "<!-- s4&#45;&gt;s2 -->\n",
       "<g id=\"edge4\" class=\"edge\">\n",
       "<title>s4&#45;&gt;s2</title>\n",
       "<path fill=\"none\" stroke=\"#2d00e5\" stroke-width=\"5.99\" d=\"M198.3518,-146.1686C155.0027,-152.971 74,-173.2715 74,-230 74,-404 74,-404 74,-404 74,-449.4271 125.943,-471.4948 168.8989,-481.9775\"/>\n",
       "<polygon fill=\"#2d00e5\" stroke=\"#2d00e5\" stroke-width=\"5.99\" points=\"165.9704,-497.3732 198.3518,-487.8314 172.0805,-466.6318 165.9704,-497.3732\"/>\n",
       "<text text-anchor=\"middle\" x=\"93\" y=\"-313.3\" font-family=\"Helvetica,sans-Serif\" font-size=\"14.00\" fill=\"#000000\"> 0.934</text>\n",
       "</g>\n",
       "<!-- s4&#45;&gt;s3 -->\n",
       "<g id=\"edge6\" class=\"edge\">\n",
       "<title>s4&#45;&gt;s3</title>\n",
       "<path fill=\"none\" stroke=\"#2d00e5\" stroke-width=\"6\" d=\"M251.7869,-145.9846C289.8424,-150.7905 356.7557,-161.5163 373,-179 404.2349,-212.618 410.9125,-294.8964 393,-335 386.1302,-350.3805 373.9499,-363.7569 361.2756,-374.5316\"/>\n",
       "<polygon fill=\"#2d00e5\" stroke=\"#2d00e5\" stroke-width=\"6\" points=\"351.8057,-361.9443 336.8411,-392.3437 370.3614,-387.3989 351.8057,-361.9443\"/>\n",
       "<text text-anchor=\"middle\" x=\"421\" y=\"-269.8\" font-family=\"Helvetica,sans-Serif\" font-size=\"14.00\" fill=\"#000000\"> 0.993</text>\n",
       "</g>\n",
       "<!-- s5 -->\n",
       "<g id=\"node4\" class=\"node\">\n",
       "<title>s5</title>\n",
       "<ellipse fill=\"none\" stroke=\"#000000\" cx=\"225\" cy=\"-56\" rx=\"29.4969\" ry=\"18\"/>\n",
       "<text text-anchor=\"middle\" x=\"225\" y=\"-52.3\" font-family=\"Helvetica,sans-Serif\" font-size=\"14.00\" fill=\"#000000\">H2O</text>\n",
       "</g>\n",
       "<!-- s4&#45;&gt;s5 -->\n",
       "<g id=\"edge7\" class=\"edge\">\n",
       "<title>s4&#45;&gt;s5</title>\n",
       "<path fill=\"none\" stroke=\"#2d00e5\" stroke-width=\"5.99\" d=\"M209.0987,-127.9722C203.8796,-122.0033 198.7227,-114.7201 196,-107 194.936,-103.9832 194.5696,-100.9391 194.7456,-97.9197\"/>\n",
       "<polygon fill=\"#2d00e5\" stroke=\"#2d00e5\" stroke-width=\"5.99\" points=\"208.8832,-104.8063 208.4258,-70.9385 180.835,-90.585 208.8832,-104.8063\"/>\n",
       "<text text-anchor=\"middle\" x=\"215\" y=\"-95.8\" font-family=\"Helvetica,sans-Serif\" font-size=\"14.00\" fill=\"#000000\"> 0.944</text>\n",
       "</g>\n",
       "<!-- s4&#45;&gt;s7 -->\n",
       "<g id=\"edge13\" class=\"edge\">\n",
       "<title>s4&#45;&gt;s7</title>\n",
       "<path fill=\"none\" stroke=\"#8972e5\" stroke-width=\"4.08\" d=\"M227.7839,-161.3732C230.2243,-172.0047 234.7369,-185.0159 243,-194 252.4049,-204.2255 265.2647,-211.7347 277.9232,-217.1649\"/>\n",
       "<polygon fill=\"#8972e5\" stroke=\"#8972e5\" stroke-width=\"4.08\" points=\"275.463,-224.0196 297.124,-224.0787 280.3977,-210.3153 275.463,-224.0196\"/>\n",
       "<text text-anchor=\"middle\" x=\"272\" y=\"-182.8\" font-family=\"Helvetica,sans-Serif\" font-size=\"14.00\" fill=\"#000000\"> 1.62e&#45;05</text>\n",
       "</g>\n",
       "<!-- s4&#45;&gt;s8 -->\n",
       "<g id=\"edge22\" class=\"edge\">\n",
       "<title>s4&#45;&gt;s8</title>\n",
       "<path fill=\"none\" stroke=\"#8972e5\" stroke-width=\"5\" d=\"M220.2313,-160.7235C214.107,-182.1222 202.4044,-218.8651 187,-248 182.3874,-256.7239 177.4912,-256.7699 174,-266 173.0853,-268.4184 172.3138,-270.9449 171.6649,-273.524\"/>\n",
       "<polygon fill=\"#8972e5\" stroke=\"#8972e5\" stroke-width=\"5\" points=\"160.7874,-272.3611 168.5042,-298.5351 182.4898,-275.1036 160.7874,-272.3611\"/>\n",
       "<text text-anchor=\"middle\" x=\"229.5\" y=\"-226.3\" font-family=\"Helvetica,sans-Serif\" font-size=\"14.00\" fill=\"#000000\"> 0.00318</text>\n",
       "</g>\n",
       "<!-- s5&#45;&gt;s4 -->\n",
       "<g id=\"edge8\" class=\"edge\">\n",
       "<title>s5&#45;&gt;s4</title>\n",
       "<path fill=\"none\" stroke=\"#2d00e5\" stroke-width=\"5.99\" d=\"M230.3619,-73.7825C231.8501,-79.5393 233.2601,-85.9896 234,-92 234.1277,-93.0374 234.2253,-94.0857 234.2951,-95.1418\"/>\n",
       "<polygon fill=\"#2d00e5\" stroke=\"#2d00e5\" stroke-width=\"5.99\" points=\"218.6551,-93.5112 230.7974,-125.1308 249.8908,-97.1545 218.6551,-93.5112\"/>\n",
       "<text text-anchor=\"middle\" x=\"253\" y=\"-95.8\" font-family=\"Helvetica,sans-Serif\" font-size=\"14.00\" fill=\"#000000\"> 0.944</text>\n",
       "</g>\n",
       "<!-- s7&#45;&gt;s2 -->\n",
       "<g id=\"edge9\" class=\"edge\">\n",
       "<title>s7&#45;&gt;s2</title>\n",
       "<path fill=\"none\" stroke=\"#8972e5\" stroke-width=\"4.44\" d=\"M349.3359,-234.1064C381.3923,-239.7051 432.666,-250.8029 444,-266 447.9856,-271.3441 445.8544,-274.5964 444,-281 417.0744,-373.98 395.762,-404.7932 313,-455 299.8347,-462.9866 284.5792,-469.9328 270.5049,-475.5364\"/>\n",
       "<polygon fill=\"#8972e5\" stroke=\"#8972e5\" stroke-width=\"4.44\" points=\"267.3328,-467.5139 249.5046,-483.3058 273.318,-483.6917 267.3328,-467.5139\"/>\n",
       "<text text-anchor=\"middle\" x=\"447.5\" y=\"-356.8\" font-family=\"Helvetica,sans-Serif\" font-size=\"14.00\" fill=\"#000000\"> 0.000129</text>\n",
       "</g>\n",
       "<!-- s7&#45;&gt;s3 -->\n",
       "<g id=\"edge12\" class=\"edge\">\n",
       "<title>s7&#45;&gt;s3</title>\n",
       "<path fill=\"none\" stroke=\"#8972e5\" stroke-width=\"4.65\" d=\"M324.8825,-247.9563C326.9716,-270.9196 329.6845,-312.3351 324.3217,-362.8228\"/>\n",
       "<polygon fill=\"#8972e5\" stroke=\"#8972e5\" stroke-width=\"4.65\" points=\"314.8829,-361.8951 321.3204,-386.2122 333.689,-364.3083 314.8829,-361.8951\"/>\n",
       "<text text-anchor=\"middle\" x=\"358.5\" y=\"-313.3\" font-family=\"Helvetica,sans-Serif\" font-size=\"14.00\" fill=\"#000000\"> 0.000432</text>\n",
       "</g>\n",
       "<!-- s7&#45;&gt;s4 -->\n",
       "<g id=\"edge14\" class=\"edge\">\n",
       "<title>s7&#45;&gt;s4</title>\n",
       "<path fill=\"none\" stroke=\"#8972e5\" stroke-width=\"4.08\" d=\"M318.7383,-212.1402C315.4139,-201.4303 309.841,-188.1571 301,-179 292.2726,-169.9606 280.8238,-162.9303 269.4697,-157.5799\"/>\n",
       "<polygon fill=\"#8972e5\" stroke=\"#8972e5\" stroke-width=\"4.08\" points=\"271.9955,-150.7461 250.3511,-149.8986 266.5654,-164.2617 271.9955,-150.7461\"/>\n",
       "<text text-anchor=\"middle\" x=\"340\" y=\"-182.8\" font-family=\"Helvetica,sans-Serif\" font-size=\"14.00\" fill=\"#000000\"> 1.62e&#45;05</text>\n",
       "</g>\n",
       "<!-- s7&#45;&gt;s8 -->\n",
       "<g id=\"edge17\" class=\"edge\">\n",
       "<title>s7&#45;&gt;s8</title>\n",
       "<path fill=\"none\" stroke=\"#856de5\" stroke-width=\"5.35\" d=\"M302.5299,-241.7741C290.6232,-248.6987 275.3732,-257.6987 262,-266 251.6312,-272.4363 249.5515,-274.8678 239,-281 231.7364,-285.2214 223.9245,-289.4914 216.2467,-293.5432\"/>\n",
       "<polygon fill=\"#856de5\" stroke=\"#856de5\" stroke-width=\"5.35\" points=\"210.4326,-282.4778 192.3365,-305.751 221.7999,-304.7416 210.4326,-282.4778\"/>\n",
       "<text text-anchor=\"middle\" x=\"285\" y=\"-269.8\" font-family=\"Helvetica,sans-Serif\" font-size=\"14.00\" fill=\"#000000\"> 0.0231</text>\n",
       "</g>\n",
       "<!-- s8&#45;&gt;s2 -->\n",
       "<g id=\"edge16\" class=\"edge\">\n",
       "<title>s8&#45;&gt;s2</title>\n",
       "<path fill=\"none\" stroke=\"#876fe5\" stroke-width=\"5.26\" d=\"M164.659,-334.9199C163.0432,-344.9095 162.3731,-357.4294 166,-368 169.2891,-377.5863 174.8505,-377.2708 180,-386 191.5766,-405.6243 201.8253,-428.7809 209.6066,-448.3475\"/>\n",
       "<polygon fill=\"#876fe5\" stroke=\"#876fe5\" stroke-width=\"5.26\" points=\"198.3839,-452.8933 218.9766,-473.2441 221.0415,-444.366 198.3839,-452.8933\"/>\n",
       "<text text-anchor=\"middle\" x=\"221\" y=\"-400.3\" font-family=\"Helvetica,sans-Serif\" font-size=\"14.00\" fill=\"#000000\"> 0.0138</text>\n",
       "</g>\n",
       "<!-- s8&#45;&gt;s3 -->\n",
       "<g id=\"edge19\" class=\"edge\">\n",
       "<title>s8&#45;&gt;s3</title>\n",
       "<path fill=\"none\" stroke=\"#8871e5\" stroke-width=\"5.12\" d=\"M167.9824,-335.2365C168.3815,-346.0882 170.7834,-359.3781 179,-368 202.0534,-392.1906 219.6895,-377.4752 252,-386 256.6524,-387.2275 261.4868,-388.5325 266.3204,-389.8573\"/>\n",
       "<polygon fill=\"#8871e5\" stroke=\"#8871e5\" stroke-width=\"5.12\" points=\"263.3844,-400.945 291.1285,-396.8027 269.5684,-378.8567 263.3844,-400.945\"/>\n",
       "<text text-anchor=\"middle\" x=\"205.5\" y=\"-356.8\" font-family=\"Helvetica,sans-Serif\" font-size=\"14.00\" fill=\"#000000\"> 0.00619</text>\n",
       "</g>\n",
       "<!-- s8&#45;&gt;s4 -->\n",
       "<g id=\"edge21\" class=\"edge\">\n",
       "<title>s8&#45;&gt;s4</title>\n",
       "<path fill=\"none\" stroke=\"#8972e5\" stroke-width=\"5\" d=\"M155.9493,-300.7992C140.6406,-279.6902 119.1262,-241.9439 134,-212 143.8675,-192.1347 162.4897,-176.4545 180.3303,-165.0955\"/>\n",
       "<polygon fill=\"#8972e5\" stroke=\"#8972e5\" stroke-width=\"5\" points=\"185.7105,-174.6183 202.1606,-152.8462 175.0061,-155.5413 185.7105,-174.6183\"/>\n",
       "<text text-anchor=\"middle\" x=\"160.5\" y=\"-226.3\" font-family=\"Helvetica,sans-Serif\" font-size=\"14.00\" fill=\"#000000\"> 0.00318</text>\n",
       "</g>\n",
       "<!-- s8&#45;&gt;s7 -->\n",
       "<g id=\"edge18\" class=\"edge\">\n",
       "<title>s8&#45;&gt;s7</title>\n",
       "<path fill=\"none\" stroke=\"#856de5\" stroke-width=\"5.35\" d=\"M171.7315,-298.9737C174.3351,-287.922 179.3632,-274.3395 189,-266 215.5755,-243.0021 232.1075,-257.2984 266,-248 268.2799,-247.3745 270.6054,-246.7178 272.9503,-246.0404\"/>\n",
       "<polygon fill=\"#856de5\" stroke=\"#856de5\" stroke-width=\"5.35\" points=\"276.8648,-257.9133 298.7121,-238.119 269.5177,-234.0195 276.8648,-257.9133\"/>\n",
       "<text text-anchor=\"middle\" x=\"212\" y=\"-269.8\" font-family=\"Helvetica,sans-Serif\" font-size=\"14.00\" fill=\"#000000\"> 0.0231</text>\n",
       "</g>\n",
       "</g>\n",
       "</svg>\n"
      ],
      "text/plain": [
       "<graphviz.files.Source at 0x7fd54693ee48>"
      ]
     },
     "metadata": {},
     "output_type": "display_data"
    }
   ],
   "source": [
    "with open(dot_file) as f:\n",
    "    dot_graph = f.read()\n",
    "display(graphviz.Source(dot_graph))"
   ]
  },
  {
   "cell_type": "code",
   "execution_count": null,
   "metadata": {},
   "outputs": [],
   "source": []
  }
 ],
 "metadata": {
  "kernelspec": {
   "display_name": "Python 3",
   "language": "python",
   "name": "python3"
  },
  "language_info": {
   "codemirror_mode": {
    "name": "ipython",
    "version": 3
   },
   "file_extension": ".py",
   "mimetype": "text/x-python",
   "name": "python",
   "nbconvert_exporter": "python",
   "pygments_lexer": "ipython3",
   "version": "3.6.4"
  }
 },
 "nbformat": 4,
 "nbformat_minor": 2
}
