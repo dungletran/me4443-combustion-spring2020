{
 "cells": [
  {
   "cell_type": "markdown",
   "metadata": {},
   "source": [
    "# ME 4443 - Project 1\n",
    "\n",
    " - **Due date: February 20th, 2020**\n",
    " - **Assignment:** Undergraduate students may work in groups of up to three students (it is up to you to find partners); graduate students should submit individual solutions. \n",
    " - **Guidelines:** discussions are encouraged; identical solutions are still considered academic dishonesty.\n",
    " - **Submission:** Remove *all* superfluous instructions, make sure that all relevant code, output and comments are present and print the page to a pdf (preferably using the Download as PDF route; alternatively, use your browser's print to PDF function). PDF's should be submitted on GradeScope and are graded out of 100 points; each day a submission is late (midnight cutoff) will result in a deduction of 15 points.\n",
    "   - Parts 1-3 need to be solved using Python/Cantera, unless stated otherwise. All code and documentation should be provided.\n",
    " - **Don't forget to add your name(s)!**\n",
    "\n",
    "**Important:** When starting, save this notebook under a new file name to prevent data loss (use `File > Make a Copy ...` in the Menu bar)."
   ]
  },
  {
   "cell_type": "code",
   "execution_count": null,
   "metadata": {},
   "outputs": [],
   "source": [
    "# ensure that all relevant modules are loaded\n",
    "import cantera as ct\n",
    "import numpy as np\n",
    "import matplotlib.pyplot as plt\n",
    "%matplotlib inline "
   ]
  },
  {
   "cell_type": "markdown",
   "metadata": {},
   "source": [
    "## Part 1: Heating Values\n",
    "\n",
    "For the following, you will need a gas object containing more species, i.e.\n",
    "\n",
    "```python\n",
    "gas = ct.Solution('gri30.xml')\n",
    "```\n",
    "\n",
    "**Undergraduate Students:**\n",
    "\n",
    "Pick two fuels from Appendix B.1 of the textbook (with either 2 or 3 carbon atoms), and calculate their *lower* heating value (Hint: compare enthalpy of formation for products and reactants). Use the following two approaches:\n",
    "\n",
    "* Manually solve for stoichiometric coefficients. Note that you will have to account for the fact that the number of moles is not necessarily preserved.\n",
    "* Use thermodynamic equilibrium to calculate predicted product composition and enthalpies (i.e. using `gas.equilibrate('TP')` in Cantera; see [Cantera tutorial](https://cantera.org/tutorials/python-tutorial.html) for further information)\n",
    "\n",
    "**Graduate Students:**\n",
    "\n",
    "Write a function that calculates the lower heating value for a given fuel, and re-create *all* lower heating values for species with up to 3 carbon atoms provided in Table B.1. (Hint: Cantera allows you to tally atoms in a species, e.g. `gas.n_atoms('CH4','C')`, which then allows you to calculate stoichiometric coefficients.) Again, compare your results to equilibrium predictions.\n",
    "\n",
    "**All:**\n",
    "\n",
    "Provide a short statement discussing your observations, i.e. compare your results with tabulated values."
   ]
  },
  {
   "cell_type": "code",
   "execution_count": null,
   "metadata": {},
   "outputs": [],
   "source": [
    "# present your results here ...\n",
    "print('present your results here ...')"
   ]
  },
  {
   "cell_type": "markdown",
   "metadata": {},
   "source": [
    "## Part 2: Adiabatic Temperature\n",
    "\n",
    "**Undergraduate Students/Graduate Students:**\n",
    "\n",
    "Calculate predictions for the adiabatic temperature for two fuels of your choice using *constant* $\\bar{c}_{p,i}$ values evaluated at the following temperatures: \n",
    "\n",
    " * room temperature\n",
    " * 1200 K, and \n",
    " * the tabulated adiabatic temperature (Appendix B.1)\n",
    " * predictions from thermodynamic equilibrium calculations (i.e. using `gas.equilibrate('HP')` in Cantera; see [Cantera tutorial](https://cantera.org/tutorials/python-tutorial.html) for further information)\n",
    "\n",
    "**Graduate Students:**\n",
    "\n",
    "Write a function that allows you to estimate the adiabatic temperature for a given fuel at an arbitrary *lean* equivalence ratio $\\phi$ (Hint: you will again have to determine stoichiometric coefficients). The solution should be iterative and use exact property data (the iteration can be terminated once it converged to within 1 K). For the same two fuels as above, plot results for $0.5 < \\phi < 1.0$. Compare your results with thermodynamic equilibrium calculations, which should be plotted for an extended range $0.5 < \\phi < 2.0$.\n",
    "\n",
    "**All:**\n",
    "\n",
    "Provide a short statement discussing your observations, i.e. compare your results with tabulated values.\n"
   ]
  },
  {
   "cell_type": "code",
   "execution_count": null,
   "metadata": {},
   "outputs": [],
   "source": [
    "# present your results here ...\n",
    "print('present your results here ...')"
   ]
  }
 ],
 "metadata": {
  "kernelspec": {
   "display_name": "Python 3",
   "language": "python",
   "name": "python3"
  },
  "language_info": {
   "codemirror_mode": {
    "name": "ipython",
    "version": 3
   },
   "file_extension": ".py",
   "mimetype": "text/x-python",
   "name": "python",
   "nbconvert_exporter": "python",
   "pygments_lexer": "ipython3",
   "version": "3.7.6"
  }
 },
 "nbformat": 4,
 "nbformat_minor": 2
}
