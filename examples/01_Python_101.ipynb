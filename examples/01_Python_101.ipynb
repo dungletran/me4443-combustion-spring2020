{
 "cells": [
  {
   "cell_type": "markdown",
   "metadata": {},
   "source": [
    "# Python 101 - Essentials\n",
    "\n",
    "Some of the example code below is based on two **Python 101** blog posts, see [here](https://medium.com/the-renaissance-developer/python-101-the-basics-441136fb7cc3) and [here](https://medium.com/the-renaissance-developer/python-101-the-basics-441136fb7cc3)\n",
    "\n",
    "Further, Python is *fairly* similar to MATLAB:\n",
    "\n",
    " * [Comparison of Python and MATLAB syntax:](http://reactorlab.net/resources-folder/matlab/P_to_M.html) some basic comparisons\n",
    " * [Numpy/Python vs MATLAB syntax:](https://docs.scipy.org/doc/numpy-dev/user/numpy-for-matlab-users.html) includes examples for NumPy, which works similar MATLAB arrays etc.\n",
    " \n",
    "To step through the code below, press `SHIFT+Enter`."
   ]
  },
  {
   "cell_type": "markdown",
   "metadata": {},
   "source": [
    "## Packages\n",
    "\n",
    "Python does not automaticall load packages (which are the equivalent to MATLAB's toolboxes); it needs to be told to so do ... below is the code to load the package [`numpy`](http://www.numpy.org/) (Python's module for scientific computing) and assigns the shorthand `np` for convenience.\n",
    "\n",
    "Note that the character `#` replaces `%` for comments."
   ]
  },
  {
   "cell_type": "code",
   "execution_count": null,
   "metadata": {
    "collapsed": true
   },
   "outputs": [],
   "source": [
    "import numpy as np"
   ]
  },
  {
   "cell_type": "code",
   "execution_count": null,
   "metadata": {},
   "outputs": [],
   "source": [
    "# list contents of package\n",
    "dir(np)"
   ]
  },
  {
   "cell_type": "code",
   "execution_count": null,
   "metadata": {},
   "outputs": [],
   "source": [
    "# display numpy's version number\n",
    "np.__version__"
   ]
  },
  {
   "cell_type": "code",
   "execution_count": null,
   "metadata": {},
   "outputs": [],
   "source": [
    "# show help\n",
    "help(np.eye)"
   ]
  },
  {
   "cell_type": "markdown",
   "metadata": {},
   "source": [
    "## Variables\n",
    "\n",
    "This pretty much works like Matlab."
   ]
  },
  {
   "cell_type": "code",
   "execution_count": null,
   "metadata": {
    "collapsed": true
   },
   "outputs": [],
   "source": [
    "# by default, output is suppressed\n",
    "one = 1"
   ]
  },
  {
   "cell_type": "code",
   "execution_count": null,
   "metadata": {},
   "outputs": [],
   "source": [
    "# jupyter creates output if no value is assigned\n",
    "one"
   ]
  },
  {
   "cell_type": "code",
   "execution_count": null,
   "metadata": {},
   "outputs": [],
   "source": [
    "# If you want to print anyways, use the `print` command.\n",
    "two = 2\n",
    "print(two)\n",
    "some_number = 1000."
   ]
  },
  {
   "cell_type": "code",
   "execution_count": null,
   "metadata": {},
   "outputs": [],
   "source": [
    "# this is an example for a two-dimensional array (same as MATLAB's eye(2))\n",
    "eye = np.eye(2)\n",
    "eye"
   ]
  },
  {
   "cell_type": "code",
   "execution_count": null,
   "metadata": {
    "collapsed": true
   },
   "outputs": [],
   "source": [
    "# other variable types\n",
    "# booleans\n",
    "true_boolean = True\n",
    "false_boolean = False\n",
    "\n",
    "# string\n",
    "my_name = \"Jane Doe\"\n",
    "\n",
    "# float\n",
    "book_price = 15.80"
   ]
  },
  {
   "cell_type": "markdown",
   "metadata": {},
   "source": [
    "## Conditional Statements\n",
    "\n",
    "Python does not use `end` statements. Instead, the extent is marked by indenting by a tab stop"
   ]
  },
  {
   "cell_type": "code",
   "execution_count": null,
   "metadata": {},
   "outputs": [],
   "source": [
    "if True:\n",
    "    print(\"Hello world!\")\n",
    "\n",
    "if 2 > 1:\n",
    "    print(\"2 is greater than 1\")\n",
    "else:\n",
    "    print(\"1 is not greater than 2\")"
   ]
  },
  {
   "cell_type": "markdown",
   "metadata": {},
   "source": [
    "## Loops/Iterations\n",
    "\n",
    "In Python, loops usually start at 0."
   ]
  },
  {
   "cell_type": "code",
   "execution_count": null,
   "metadata": {},
   "outputs": [],
   "source": [
    "num = 0\n",
    "\n",
    "while num < 10:\n",
    "    print(num)\n",
    "    num += 1"
   ]
  },
  {
   "cell_type": "code",
   "execution_count": null,
   "metadata": {},
   "outputs": [],
   "source": [
    "for i in range(10):\n",
    "    print(i)"
   ]
  },
  {
   "cell_type": "markdown",
   "metadata": {},
   "source": [
    "## Data Structures"
   ]
  },
  {
   "cell_type": "code",
   "execution_count": null,
   "metadata": {},
   "outputs": [],
   "source": [
    "# list (an ordered data type)\n",
    "my_integers = [0, 1, 2, 3, 4]\n",
    "my_integers[1] = 20 # indexint starts at zero (!)\n",
    "my_integers[-1] = -100 # last element\n",
    "my_integers"
   ]
  },
  {
   "cell_type": "code",
   "execution_count": null,
   "metadata": {},
   "outputs": [],
   "source": [
    "# working with lists\n",
    "bookshelf = [] # empty list\n",
    "bookshelf.append(\"The Effective Engineer\")\n",
    "bookshelf.append(\"The 4 Hour Work Week\")\n",
    "print(bookshelf[0]) # The Effective Engineer\n",
    "print(bookshelf[1]) # The 4 Hour Work Week"
   ]
  },
  {
   "cell_type": "code",
   "execution_count": null,
   "metadata": {},
   "outputs": [],
   "source": [
    "# tuple: simply put, just another type of list; main difference is that you cannot assign a value\n",
    "my_tuple = (0, 1, 2, 3, 4,)\n",
    "print(my_tuple)\n",
    "my_tuple[0] = 2 # this will raise an error"
   ]
  },
  {
   "cell_type": "code",
   "execution_count": null,
   "metadata": {},
   "outputs": [],
   "source": [
    "# a tuple doesn't have to have parentheses\n",
    "0, 1, 2, 3, 4,"
   ]
  },
  {
   "cell_type": "code",
   "execution_count": null,
   "metadata": {},
   "outputs": [],
   "source": [
    "# dictionaries: unordered key/value pairs accessed by a key\n",
    "my_dictionary = {'zero': 0, 'one': 1, 'two': 2}\n",
    "print(my_dictionary['two'])\n",
    "my_dictionary"
   ]
  },
  {
   "cell_type": "code",
   "execution_count": null,
   "metadata": {},
   "outputs": [],
   "source": [
    "# sets: another unordered data type; rarely used\n",
    "my_set = {0,1,4,2,3}\n",
    "my_set"
   ]
  },
  {
   "cell_type": "code",
   "execution_count": null,
   "metadata": {},
   "outputs": [],
   "source": [
    "# any of the above data structures can be used to loop through contents\n",
    "for value in my_integers:\n",
    "    print(value)"
   ]
  },
  {
   "cell_type": "code",
   "execution_count": null,
   "metadata": {},
   "outputs": [],
   "source": [
    "for value in my_tuple:\n",
    "    print(value)"
   ]
  },
  {
   "cell_type": "code",
   "execution_count": null,
   "metadata": {},
   "outputs": [],
   "source": [
    "for key in my_dictionary:\n",
    "    print(my_dictionary[key])"
   ]
  },
  {
   "cell_type": "code",
   "execution_count": null,
   "metadata": {},
   "outputs": [],
   "source": [
    "# some fancy list operations (note that `**` replaces `^`, i.e. i**2 is the square of i)\n",
    "x = [i**2 for i in range(10)]\n",
    "x"
   ]
  },
  {
   "cell_type": "code",
   "execution_count": null,
   "metadata": {},
   "outputs": [],
   "source": [
    "# also, all types support `len` to obtain the length\n",
    "len(x)"
   ]
  },
  {
   "cell_type": "markdown",
   "metadata": {},
   "source": [
    "## Formatting of Output"
   ]
  },
  {
   "cell_type": "code",
   "execution_count": null,
   "metadata": {},
   "outputs": [],
   "source": [
    "# convert an integer/floating point value to a string and vice versa\n",
    "str(3), int('3'), str(np.pi), float('3.1415926')"
   ]
  },
  {
   "cell_type": "code",
   "execution_count": null,
   "metadata": {},
   "outputs": [],
   "source": [
    "# another way of formatting ... (python 2.7 compatible syntax)\n",
    "'%i' % 3, '%1.10f' % np.pi,"
   ]
  },
  {
   "cell_type": "code",
   "execution_count": null,
   "metadata": {},
   "outputs": [],
   "source": [
    "# creating a formatted string \n",
    "print('the length of this list is %i' % len(x))"
   ]
  },
  {
   "cell_type": "code",
   "execution_count": null,
   "metadata": {},
   "outputs": [],
   "source": [
    "# if more than one value needs to be inserted, use a tuple to pass arguments\n",
    "print('%s = %1.10f' % ('pi',np.pi,))"
   ]
  },
  {
   "cell_type": "code",
   "execution_count": null,
   "metadata": {},
   "outputs": [],
   "source": [
    "# a dictionary (note that the key could be an integer also)\n",
    "another_dict = {str(i):i**2 for i in range(5)}\n",
    "another_dict"
   ]
  },
  {
   "cell_type": "code",
   "execution_count": null,
   "metadata": {},
   "outputs": [],
   "source": [
    "# and, finally, an example for a fancy iteration (note the respective use of \" and ')\n",
    "for key, value in another_dict.items():\n",
    "    print(\"The square of '%s' is '%i'\" % (key, value,))"
   ]
  },
  {
   "cell_type": "code",
   "execution_count": null,
   "metadata": {
    "collapsed": true
   },
   "outputs": [],
   "source": []
  }
 ],
 "metadata": {
  "kernelspec": {
   "display_name": "Python 3",
   "language": "python",
   "name": "python3"
  },
  "language_info": {
   "codemirror_mode": {
    "name": "ipython",
    "version": 3
   },
   "file_extension": ".py",
   "mimetype": "text/x-python",
   "name": "python",
   "nbconvert_exporter": "python",
   "pygments_lexer": "ipython3",
   "version": "3.6.3"
  }
 },
 "nbformat": 4,
 "nbformat_minor": 2
}
