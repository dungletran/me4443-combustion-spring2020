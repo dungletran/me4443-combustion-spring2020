{
 "cells": [
  {
   "cell_type": "markdown",
   "metadata": {},
   "source": [
    "# Brief Introduction to CANTERA\n",
    "\n",
    "For additional detail, see [online documentation](http://www.cantera.org/docs/sphinx/html/index.html)"
   ]
  },
  {
   "cell_type": "markdown",
   "metadata": {},
   "source": [
    "## Thermodynamic Properties\n",
    "\n",
    "Examples below both follow the first part of the lecture, but also introduce some basic features of `Cantera`."
   ]
  },
  {
   "cell_type": "code",
   "execution_count": 1,
   "metadata": {
    "collapsed": true
   },
   "outputs": [],
   "source": [
    "# import relevant python modules\n",
    "import cantera as ct"
   ]
  },
  {
   "cell_type": "code",
   "execution_count": 2,
   "metadata": {},
   "outputs": [
    {
     "data": {
      "text/plain": [
       "(101325.0, 8314.4621)"
      ]
     },
     "execution_count": 2,
     "metadata": {},
     "output_type": "execute_result"
    }
   ],
   "source": [
    "# some constants\n",
    "ct.one_atm, ct.gas_constant,"
   ]
  },
  {
   "cell_type": "markdown",
   "metadata": {},
   "source": [
    "Note that jupyter supports auto-completion, i.e. if you start typing and hit `TAB`, a list of possible completions appears. E.g. if you start typing `ct.g` and hit `TAB`, you'll see `ct.gas_constant` and `ct.get_data_directories`."
   ]
  },
  {
   "cell_type": "code",
   "execution_count": 3,
   "metadata": {},
   "outputs": [
    {
     "ename": "AttributeError",
     "evalue": "module 'cantera' has no attribute 'g'",
     "output_type": "error",
     "traceback": [
      "\u001b[0;31m---------------------------------------------------------------------------\u001b[0m",
      "\u001b[0;31mAttributeError\u001b[0m                            Traceback (most recent call last)",
      "\u001b[0;32m<ipython-input-3-f04d78b8c53a>\u001b[0m in \u001b[0;36m<module>\u001b[0;34m()\u001b[0m\n\u001b[1;32m      1\u001b[0m \u001b[0;31m# please read above, move the cursor to the end of `ct.g` below and hit TAB ...\u001b[0m\u001b[0;34m\u001b[0m\u001b[0;34m\u001b[0m\u001b[0m\n\u001b[0;32m----> 2\u001b[0;31m \u001b[0mct\u001b[0m\u001b[0;34m.\u001b[0m\u001b[0mg\u001b[0m\u001b[0;34m\u001b[0m\u001b[0m\n\u001b[0m",
      "\u001b[0;31mAttributeError\u001b[0m: module 'cantera' has no attribute 'g'"
     ]
    }
   ],
   "source": [
    "# please read above, move the cursor to the end of `ct.g` below and hit TAB ...\n",
    "ct.g"
   ]
  },
  {
   "cell_type": "markdown",
   "metadata": {},
   "source": [
    "#### Gas Mixtures"
   ]
  },
  {
   "cell_type": "code",
   "execution_count": 4,
   "metadata": {},
   "outputs": [
    {
     "data": {
      "text/plain": [
       "['O', 'O2', 'N', 'NO', 'NO2', 'N2O', 'N2', 'AR']"
      ]
     },
     "execution_count": 4,
     "metadata": {},
     "output_type": "execute_result"
    }
   ],
   "source": [
    "# create a mixture that contains species typical for air (some property data already ship with cantera)\n",
    "gas = ct.Solution('air.xml')\n",
    "gas.species_names"
   ]
  },
  {
   "cell_type": "code",
   "execution_count": 5,
   "metadata": {},
   "outputs": [
    {
     "data": {
      "text/plain": [
       "8"
      ]
     },
     "execution_count": 5,
     "metadata": {},
     "output_type": "execute_result"
    }
   ],
   "source": [
    "# number of species\n",
    "gas.n_species"
   ]
  },
  {
   "cell_type": "code",
   "execution_count": 6,
   "metadata": {},
   "outputs": [
    {
     "data": {
      "text/plain": [
       "['O', 'N', 'Ar']"
      ]
     },
     "execution_count": 6,
     "metadata": {},
     "output_type": "execute_result"
    }
   ],
   "source": [
    "# elements making up mixture\n",
    "gas.element_names"
   ]
  },
  {
   "cell_type": "code",
   "execution_count": 7,
   "metadata": {},
   "outputs": [
    {
     "data": {
      "text/plain": [
       "array([ 15.9994 ,  31.9988 ,  14.00674,  30.00614,  46.00554,  44.01288,\n",
       "        28.01348,  39.948  ])"
      ]
     },
     "execution_count": 7,
     "metadata": {},
     "output_type": "execute_result"
    }
   ],
   "source": [
    "# list molecular weights\n",
    "gas.molecular_weights"
   ]
  },
  {
   "cell_type": "code",
   "execution_count": 8,
   "metadata": {},
   "outputs": [
    {
     "data": {
      "text/plain": [
       "(300.0, 101325.0)"
      ]
     },
     "execution_count": 8,
     "metadata": {},
     "output_type": "execute_result"
    }
   ],
   "source": [
    "# gas temperature, pressure\n",
    "gas.T, gas.P,"
   ]
  },
  {
   "cell_type": "code",
   "execution_count": 9,
   "metadata": {},
   "outputs": [
    {
     "data": {
      "text/plain": [
       "(300.0, 101325.0)"
      ]
     },
     "execution_count": 9,
     "metadata": {},
     "output_type": "execute_result"
    }
   ],
   "source": [
    "# shorthand for the above\n",
    "gas.TP"
   ]
  },
  {
   "cell_type": "code",
   "execution_count": 10,
   "metadata": {},
   "outputs": [
    {
     "data": {
      "text/plain": [
       "array([ 0.  ,  0.21,  0.  ,  0.  ,  0.  ,  0.  ,  0.78,  0.01])"
      ]
     },
     "execution_count": 10,
     "metadata": {},
     "output_type": "execute_result"
    }
   ],
   "source": [
    "# gas composition (defaults to air): mole basis\n",
    "gas.X"
   ]
  },
  {
   "cell_type": "code",
   "execution_count": 11,
   "metadata": {},
   "outputs": [
    {
     "data": {
      "text/plain": [
       "(1, 'O2', 0.21000000000000002)"
      ]
     },
     "execution_count": 11,
     "metadata": {},
     "output_type": "execute_result"
    }
   ],
   "source": [
    "# entries are indexed according to the list of species names\n",
    "gas.species_index('O2'), gas.species_name(1), gas.X[1]"
   ]
  },
  {
   "cell_type": "code",
   "execution_count": 12,
   "metadata": {},
   "outputs": [
    {
     "data": {
      "text/plain": [
       "array([ 0.        ,  0.23195746,  0.        ,  0.        ,  0.        ,\n",
       "        0.        ,  0.75425298,  0.01378956])"
      ]
     },
     "execution_count": 12,
     "metadata": {},
     "output_type": "execute_result"
    }
   ],
   "source": [
    "# gas composition (mass basis)\n",
    "gas.Y"
   ]
  },
  {
   "cell_type": "code",
   "execution_count": 13,
   "metadata": {},
   "outputs": [
    {
     "data": {
      "text/plain": [
       "(1.0000000000000002,)"
      ]
     },
     "execution_count": 13,
     "metadata": {},
     "output_type": "execute_result"
    }
   ],
   "source": [
    "# arrays seen above are numpy arrays, which support shortcuts (please note that the small\n",
    "# difference - 2.e-16 - is caused by machine precision, i.e. it is not real)\n",
    "gas.X.sum(),"
   ]
  },
  {
   "cell_type": "markdown",
   "metadata": {},
   "source": [
    "**Note:** Python's `numpy` arrays by default apply element-wise multiplications. \n",
    "\n",
    "Consider mixture properties, - e.g. the average molecular weight $MW_\\mathrm{avg}$, - which are obtained as a weighed sum:\n",
    "\n",
    "\\begin{equation}\n",
    "MW_\\mathrm{avg} = \\sum_{i=0}^{N-1} X_i \\, MW_i \\neq \\frac{1}{N} \\sum_{i=0}^{N-1} MW_i\n",
    "\\end{equation}\n",
    "\n",
    "with $N$ being the number of species:"
   ]
  },
  {
   "cell_type": "code",
   "execution_count": 14,
   "metadata": {},
   "outputs": [
    {
     "data": {
      "text/plain": [
       "(28.9697424, 28.969742400000005, 31.248872499999997)"
      ]
     },
     "execution_count": 14,
     "metadata": {},
     "output_type": "execute_result"
    }
   ],
   "source": [
    "# comparison of built-in and manually coded results\n",
    "gas.mean_molecular_weight, (gas.X*gas.molecular_weights).sum(), gas.molecular_weights.mean()"
   ]
  },
  {
   "cell_type": "code",
   "execution_count": 15,
   "metadata": {},
   "outputs": [
    {
     "data": {
      "text/plain": [
       "(300.0,\n",
       " 101325.0,\n",
       " array([ 0.  ,  0.21,  0.  ,  0.  ,  0.  ,  0.  ,  0.78,  0.01]))"
      ]
     },
     "execution_count": 15,
     "metadata": {},
     "output_type": "execute_result"
    }
   ],
   "source": [
    "# another shorthand describing the complete mixture state\n",
    "gas.TPX"
   ]
  },
  {
   "cell_type": "markdown",
   "metadata": {},
   "source": [
    "#### Finding gas properties (`attributes` of gas mixtures)\n",
    "\n",
    "Note: apart from properties, attributes also include functions defined for the gas mixture."
   ]
  },
  {
   "cell_type": "code",
   "execution_count": 16,
   "metadata": {},
   "outputs": [
    {
     "name": "stdout",
     "output_type": "stream",
     "text": [
      "['DP', 'DPX', 'DPY', 'HP', 'HPX', 'HPY', 'ID', 'P', 'P_sat', 'SP', 'SPX', 'SPY', 'SV', 'SVX', 'SVY', 'T', 'TD', 'TDX', 'TDY', 'TP', 'TPX', 'TPY', 'T_sat', 'UV', 'UVX', 'UVY', 'X', 'Y', '__call__', '__class__', '__copy__', '__delattr__', '__dir__', '__doc__', '__eq__', '__format__', '__ge__', '__getattribute__', '__getitem__', '__gt__', '__hash__', '__init__', '__init_subclass__', '__le__', '__lt__', '__module__', '__ne__', '__new__', '__pyx_vtable__', '__reduce__', '__reduce_ex__', '__repr__', '__setattr__', '__sizeof__', '__slots__', '__str__', '__subclasshook__', '_check_kinetics_species_index', '_check_phase_index', '_check_reaction_index', '_full_states', '_init_cti_xml', '_init_parts', '_references', 'add_reaction', 'add_species', 'atomic_weight', 'atomic_weights', 'basis', 'binary_diff_coeffs', 'chemical_potentials', 'concentrations', 'cp', 'cp_mass', 'cp_mole', 'creation_rates', 'critical_density', 'critical_pressure', 'critical_temperature', 'cv', 'cv_mass', 'cv_mole', 'delta_enthalpy', 'delta_entropy', 'delta_gibbs', 'delta_standard_enthalpy', 'delta_standard_entropy', 'delta_standard_gibbs', 'density', 'density_mass', 'density_mole', 'destruction_rates', 'electric_potential', 'electrical_conductivity', 'electrochemical_potentials', 'element_index', 'element_name', 'element_names', 'element_potentials', 'elemental_mass_fraction', 'elemental_mole_fraction', 'enthalpy_mass', 'enthalpy_mole', 'entropy_mass', 'entropy_mole', 'equilibrate', 'equilibrium_constants', 'forward_rate_constants', 'forward_rates_of_progress', 'g', 'gibbs_mass', 'gibbs_mole', 'h', 'int_energy_mass', 'int_energy_mole', 'is_reversible', 'isothermal_compressibility', 'kinetics_species_index', 'mass_fraction_dict', 'max_temp', 'mean_molecular_weight', 'min_temp', 'mix_diff_coeffs', 'mix_diff_coeffs_mass', 'mix_diff_coeffs_mole', 'modify_reaction', 'modify_species', 'mole_fraction_dict', 'molecular_weights', 'multi_diff_coeffs', 'multiplier', 'n_atoms', 'n_elements', 'n_phases', 'n_reactions', 'n_selected_species', 'n_species', 'n_total_species', 'name', 'net_production_rates', 'net_rates_of_progress', 'partial_molar_cp', 'partial_molar_enthalpies', 'partial_molar_entropies', 'partial_molar_int_energies', 'partial_molar_volumes', 'product_stoich_coeff', 'product_stoich_coeffs', 'products', 'reactant_stoich_coeff', 'reactant_stoich_coeffs', 'reactants', 'reaction', 'reaction_equation', 'reaction_equations', 'reaction_phase_index', 'reaction_type', 'reactions', 'reference_pressure', 'report', 'reverse_rate_constants', 'reverse_rates_of_progress', 's', 'selected_species', 'set_equivalence_ratio', 'set_multiplier', 'set_unnormalized_mass_fractions', 'set_unnormalized_mole_fractions', 'species', 'species_index', 'species_name', 'species_names', 'standard_cp_R', 'standard_enthalpies_RT', 'standard_entropies_R', 'standard_gibbs_RT', 'standard_int_energies_RT', 'state', 'thermal_conductivity', 'thermal_diff_coeffs', 'thermal_expansion_coeff', 'transport_model', 'u', 'v', 'viscosity', 'volume_mass', 'volume_mole']\n"
     ]
    }
   ],
   "source": [
    "# the long way (note that the `print` command creates a more compact view of a relatively long list)\n",
    "print(dir(gas))"
   ]
  },
  {
   "cell_type": "code",
   "execution_count": 17,
   "metadata": {},
   "outputs": [
    {
     "data": {
      "text/plain": [
       "['delta_enthalpy', 'delta_standard_enthalpy', 'enthalpy_mass', 'enthalpy_mole']"
      ]
     },
     "execution_count": 17,
     "metadata": {},
     "output_type": "execute_result"
    }
   ],
   "source": [
    "# some python tricks help here (this is a shortcut for a loop combined with an if statement)\n",
    "# doesn't really have an equivalent in matlab ;)\n",
    "[ attr for attr in dir(gas) if 'enthalpy' in attr ]"
   ]
  },
  {
   "cell_type": "code",
   "execution_count": 18,
   "metadata": {},
   "outputs": [
    {
     "data": {
      "text/plain": [
       "['delta_enthalpy', 'delta_standard_enthalpy', 'enthalpy_mass', 'enthalpy_mole']"
      ]
     },
     "execution_count": 18,
     "metadata": {},
     "output_type": "execute_result"
    }
   ],
   "source": [
    "# same as above, only longer\n",
    "keep = []\n",
    "# loop over everything that can be retrieved for the gas mixture\n",
    "for attr in dir(gas):\n",
    "    # check whether the string 'enthalpy' is part of the attribute\n",
    "    if 'enthalpy' in attr: \n",
    "        keep.append(attr)\n",
    "# display result\n",
    "keep"
   ]
  },
  {
   "cell_type": "code",
   "execution_count": 19,
   "metadata": {},
   "outputs": [
    {
     "data": {
      "text/plain": [
       "(54867.91309526664, 1893.97310951811, 1893.97310951811)"
      ]
     },
     "execution_count": 19,
     "metadata": {},
     "output_type": "execute_result"
    }
   ],
   "source": [
    "# enthalpies (note that `h` is also present)\n",
    "gas.enthalpy_mole, gas.enthalpy_mass, gas.h, "
   ]
  },
  {
   "cell_type": "code",
   "execution_count": 20,
   "metadata": {},
   "outputs": [
    {
     "data": {
      "text/plain": [
       "['cp', 'cp_mass', 'cp_mole', 'partial_molar_cp', 'standard_cp_R']"
      ]
     },
     "execution_count": 20,
     "metadata": {},
     "output_type": "execute_result"
    }
   ],
   "source": [
    "# commands for specific heats\n",
    "[ attr for attr in dir(gas) if 'cp' in attr ]"
   ]
  },
  {
   "cell_type": "code",
   "execution_count": 21,
   "metadata": {},
   "outputs": [
    {
     "data": {
      "text/plain": [
       "(29058.230869362633, 1003.0545135038077, 1003.0545135038078)"
      ]
     },
     "execution_count": 21,
     "metadata": {},
     "output_type": "execute_result"
    }
   ],
   "source": [
    "# values default to mass basis\n",
    "gas.cp_mole, gas.cp_mass, gas.cp, "
   ]
  },
  {
   "cell_type": "markdown",
   "metadata": {},
   "source": [
    "#### Changing Mixture States"
   ]
  },
  {
   "cell_type": "code",
   "execution_count": 22,
   "metadata": {},
   "outputs": [
    {
     "data": {
      "text/plain": [
       "(1200.0, 101325.0)"
      ]
     },
     "execution_count": 22,
     "metadata": {},
     "output_type": "execute_result"
    }
   ],
   "source": [
    "# note that it requires *two* properties to define a state\n",
    "gas.TP = 1200, ct.one_atm,\n",
    "gas.TP"
   ]
  },
  {
   "cell_type": "code",
   "execution_count": 23,
   "metadata": {},
   "outputs": [
    {
     "data": {
      "text/plain": [
       "array([ 0.,  1.,  0.,  0.,  0.,  0.,  0.,  0.])"
      ]
     },
     "execution_count": 23,
     "metadata": {},
     "output_type": "execute_result"
    }
   ],
   "source": [
    "# changing the mixture can be done using strings\n",
    "gas.X = 'O2:1'\n",
    "gas.X"
   ]
  },
  {
   "cell_type": "code",
   "execution_count": 24,
   "metadata": {},
   "outputs": [
    {
     "data": {
      "text/plain": [
       "array([ 0. ,  0.5,  0. ,  0. ,  0. ,  0. ,  0.5,  0. ])"
      ]
     },
     "execution_count": 24,
     "metadata": {},
     "output_type": "execute_result"
    }
   ],
   "source": [
    "# or\n",
    "gas.X = 'O2:.5,N2:.5'\n",
    "gas.X"
   ]
  },
  {
   "cell_type": "markdown",
   "metadata": {},
   "source": [
    "**Important:** all mixture properties are defined assuming fractions add up to unity, i.e.\n",
    "\n",
    "\\begin{equation}\n",
    "\\sum_{i=0}^{N-1} X_i = 1\n",
    "\\end{equation} \n",
    "\n",
    "and \n",
    "\n",
    "\\begin{equation}\n",
    "\\sum_{i=0}^{N-1} Y_i = 1\n",
    "\\end{equation}\n",
    "\n",
    "with $N$ being the number of species."
   ]
  },
  {
   "cell_type": "code",
   "execution_count": 25,
   "metadata": {},
   "outputs": [
    {
     "data": {
      "text/plain": [
       "array([ 0. ,  0.5,  0. ,  0. ,  0. ,  0. ,  0.5,  0. ])"
      ]
     },
     "execution_count": 25,
     "metadata": {},
     "output_type": "execute_result"
    }
   ],
   "source": [
    "# i.e. cantera will normalize the following\n",
    "gas.X = 'O2:1,N2:1'\n",
    "gas.X"
   ]
  },
  {
   "cell_type": "code",
   "execution_count": 26,
   "metadata": {},
   "outputs": [
    {
     "data": {
      "text/plain": [
       "(18963956.705439322, 632002.54032805702)"
      ]
     },
     "execution_count": 26,
     "metadata": {},
     "output_type": "execute_result"
    }
   ],
   "source": [
    "# i.e. whatever mixture property you may want to evaluate is obtained for one kmol (or one kg) of mixture\n",
    "(gas.int_energy_mole * gas.X).sum(), (gas.int_energy_mass * gas.Y).sum()"
   ]
  },
  {
   "cell_type": "code",
   "execution_count": 27,
   "metadata": {},
   "outputs": [
    {
     "data": {
      "text/plain": [
       "(714.95915118031883, 23.827095093881415)"
      ]
     },
     "execution_count": 27,
     "metadata": {},
     "output_type": "execute_result"
    }
   ],
   "source": [
    "# you can show that there is some small error in how thermodynamic properties are internally tabulated\n",
    "# Note: what is the theoretical value? And: how bad is this error?\n",
    "gas.TP = 298.15, ct.one_atm\n",
    "(gas.enthalpy_mole * gas.X).sum(), (gas.enthalpy_mass * gas.Y).sum()"
   ]
  },
  {
   "cell_type": "code",
   "execution_count": 28,
   "metadata": {},
   "outputs": [
    {
     "data": {
      "text/plain": [
       "['O', 'N', 'Ar']"
      ]
     },
     "execution_count": 28,
     "metadata": {},
     "output_type": "execute_result"
    }
   ],
   "source": [
    "# we could go further and look at elemental species\n",
    "gas.element_names"
   ]
  },
  {
   "cell_type": "code",
   "execution_count": 29,
   "metadata": {},
   "outputs": [
    {
     "data": {
      "text/plain": [
       "[0.5, 0.5, 0.0]"
      ]
     },
     "execution_count": 29,
     "metadata": {},
     "output_type": "execute_result"
    }
   ],
   "source": [
    "# and\n",
    "[ gas.elemental_mole_fraction(a) for a in gas.element_names ]"
   ]
  },
  {
   "cell_type": "code",
   "execution_count": 30,
   "metadata": {},
   "outputs": [
    {
     "data": {
      "text/plain": [
       "[0.5332042042062058, 0.46679579579379427, 0.0]"
      ]
     },
     "execution_count": 30,
     "metadata": {},
     "output_type": "execute_result"
    }
   ],
   "source": [
    "# or\n",
    "[ gas.elemental_mass_fraction(a) for a in gas.element_names ]"
   ]
  },
  {
   "cell_type": "code",
   "execution_count": null,
   "metadata": {
    "collapsed": true
   },
   "outputs": [],
   "source": []
  },
  {
   "cell_type": "code",
   "execution_count": null,
   "metadata": {
    "collapsed": true
   },
   "outputs": [],
   "source": []
  },
  {
   "cell_type": "code",
   "execution_count": null,
   "metadata": {
    "collapsed": true
   },
   "outputs": [],
   "source": []
  }
 ],
 "metadata": {
  "kernelspec": {
   "display_name": "Python 3",
   "language": "python",
   "name": "python3"
  },
  "language_info": {
   "codemirror_mode": {
    "name": "ipython",
    "version": 3
   },
   "file_extension": ".py",
   "mimetype": "text/x-python",
   "name": "python",
   "nbconvert_exporter": "python",
   "pygments_lexer": "ipython3",
   "version": "3.6.3"
  }
 },
 "nbformat": 4,
 "nbformat_minor": 2
}
